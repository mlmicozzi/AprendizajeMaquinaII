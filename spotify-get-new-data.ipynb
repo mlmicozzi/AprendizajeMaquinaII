{
 "cells": [
  {
   "cell_type": "code",
   "execution_count": 2,
   "metadata": {},
   "outputs": [],
   "source": [
    "import csv\n",
    "import sys\n",
    "sys.path.append('/functions')\n",
    "from functions.spotify_API import GetTrackInfo, GetTracksInfo, SearchByName, SearchByYear, GetAudioFeatures, GetAudiosFeatures, JoinTrackInfo"
   ]
  },
  {
   "cell_type": "code",
   "execution_count": null,
   "metadata": {},
   "outputs": [],
   "source": [
    "# obtenemos tracks ids para distintos periodos - el limite maximo por llamada del search es 50\n",
    "\n",
    "track_ids = []\n",
    "\n",
    "track_ids.extend(SearchByYear(year_range='1990-1995', limit=50))\n",
    "track_ids.extend(SearchByYear(year_range='1996-2000', limit=50))\n",
    "\n",
    "# eliminamos los duplicados\n",
    "track_ids = list(dict.fromkeys(track_ids))\n",
    "\n",
    "print(f'Tenemos {len(track_ids)} nuevos track ids')"
   ]
  },
  {
   "cell_type": "code",
   "execution_count": null,
   "metadata": {},
   "outputs": [],
   "source": [
    "# para toda la lista track_ids obtenemos la track info y audio features\n",
    "\n",
    "tracks_info = GetTracksInfo(track_ids)\n",
    "audio_features = GetAudiosFeatures(track_ids)\n",
    "\n",
    "# guardamos la informacion en una lista\n",
    "\n",
    "tracks = []\n",
    "\n",
    "for i in range(len(track_ids)):\n",
    "    track = JoinTrackInfo(tracks_info['tracks'][i], audio_features['audio_features'][i])\n",
    "    tracks.append(track)\n",
    "    # print(f'{i} - {track}')"
   ]
  },
  {
   "cell_type": "code",
   "execution_count": null,
   "metadata": {},
   "outputs": [],
   "source": [
    "# obtenemos tracks ids para distintos periodos - el limite maximo por llamada del search es 50\n",
    "\n",
    "track_ids = []\n",
    "\n",
    "track_ids.extend(SearchByYear(year_range='2001-2005', limit=50))\n",
    "track_ids.extend(SearchByYear(year_range=\"2006-2010\", limit=50))\n",
    "\n",
    "# eliminamos los duplicados\n",
    "track_ids = list(dict.fromkeys(track_ids))\n",
    "\n",
    "print(f'Tenemos {len(track_ids)} nuevos track ids')"
   ]
  },
  {
   "cell_type": "code",
   "execution_count": null,
   "metadata": {},
   "outputs": [],
   "source": [
    "# para toda la lista track_ids obtenemos la track info y audio features\n",
    "\n",
    "tracks_info = GetTracksInfo(track_ids)\n",
    "audio_features = GetAudiosFeatures(track_ids)\n",
    "\n",
    "# guardamos la informacion en la lista\n",
    "\n",
    "for i in range(len(track_ids)):\n",
    "    track = JoinTrackInfo(tracks_info['tracks'][i], audio_features['audio_features'][i])\n",
    "    tracks.append(track)\n",
    "    # print(f'{i} - {track}')"
   ]
  },
  {
   "cell_type": "code",
   "execution_count": null,
   "metadata": {},
   "outputs": [],
   "source": [
    "# guardamos la nueva lista en datasets/new_song_list.csv\n",
    "\n",
    "fields = list(tracks[0].keys())\n",
    "\n",
    "with open('datasets/new_song_list.csv', mode='w', newline='') as file:\n",
    "    writer = csv.DictWriter(file, fieldnames=fields)\n",
    "    writer.writeheader()\n",
    "    writer.writerows(tracks)"
   ]
  },
  {
   "cell_type": "code",
   "execution_count": null,
   "metadata": {},
   "outputs": [],
   "source": [
    "info = GetTrackInfo('3eFJI470ALf1EYjywPRsJy')"
   ]
  }
 ],
 "metadata": {
  "kernelspec": {
   "display_name": "CEIA",
   "language": "python",
   "name": "python3"
  },
  "language_info": {
   "codemirror_mode": {
    "name": "ipython",
    "version": 3
   },
   "file_extension": ".py",
   "mimetype": "text/x-python",
   "name": "python",
   "nbconvert_exporter": "python",
   "pygments_lexer": "ipython3",
   "version": "3.12.5"
  }
 },
 "nbformat": 4,
 "nbformat_minor": 2
}
