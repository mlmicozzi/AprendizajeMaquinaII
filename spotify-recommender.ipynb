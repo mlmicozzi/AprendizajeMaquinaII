{
 "cells": [
  {
   "cell_type": "markdown",
   "metadata": {},
   "source": [
    "# Modelo de recomendación"
   ]
  },
  {
   "cell_type": "code",
   "execution_count": null,
   "metadata": {
    "_cell_guid": "b1076dfc-b9ad-4769-8c92-a6c4dae69d19",
    "_uuid": "8f2839f25d086af736a60e9eeb907d3b93b6e0e5",
    "execution": {
     "iopub.execute_input": "2024-11-18T21:46:13.531832Z",
     "iopub.status.busy": "2024-11-18T21:46:13.530732Z",
     "iopub.status.idle": "2024-11-18T21:46:13.642607Z",
     "shell.execute_reply": "2024-11-18T21:46:13.641050Z",
     "shell.execute_reply.started": "2024-11-18T21:46:13.531792Z"
    },
    "trusted": true
   },
   "outputs": [],
   "source": [
    "# This Python 3 environment comes with many helpful analytics libraries installed\n",
    "# It is defined by the kaggle/python Docker image: https://github.com/kaggle/docker-python\n",
    "# For example, here's several helpful packages to load\n",
    "\n",
    "import pandas as pd\n",
    "import numpy as np\n",
    "import matplotlib.pyplot as plt\n",
    "import matplotlib.colors as mcolors\n",
    "from sklearn.model_selection import train_test_split\n",
    "from sklearn.metrics.pairwise import cosine_similarity\n",
    "from tensorflow.keras.layers import Input, Dense, Dropout\n",
    "from tensorflow.keras.models import Model\n",
    "\n",
    "# Input data files are available in the read-only \"../input/\" directory\n",
    "# For example, running this (by clicking run or pressing Shift+Enter) will list all files under the input directory\n",
    "\n",
    "import os\n",
    "for dirname, _, filenames in os.walk('/kaggle/input'):\n",
    "    for filename in filenames:\n",
    "        print(os.path.join(dirname, filename))\n",
    "\n",
    "# You can write up to 20GB to the current directory (/kaggle/working/) that gets preserved as output when you create a version using \"Save & Run All\" \n",
    "# You can also write temporary files to /kaggle/temp/, but they won't be saved outside of the current session"
   ]
  },
  {
   "cell_type": "code",
   "execution_count": null,
   "metadata": {
    "execution": {
     "iopub.execute_input": "2024-11-18T22:54:10.001435Z",
     "iopub.status.busy": "2024-11-18T22:54:10.001010Z",
     "iopub.status.idle": "2024-11-18T22:54:10.364849Z",
     "shell.execute_reply": "2024-11-18T22:54:10.363599Z",
     "shell.execute_reply.started": "2024-11-18T22:54:10.001400Z"
    },
    "trusted": true
   },
   "outputs": [],
   "source": [
    "df = pd.read_csv('/kaggle/input/spotify-dataset/df_songs.csv')"
   ]
  },
  {
   "cell_type": "code",
   "execution_count": null,
   "metadata": {
    "execution": {
     "iopub.execute_input": "2024-11-18T22:54:19.057677Z",
     "iopub.status.busy": "2024-11-18T22:54:19.056390Z",
     "iopub.status.idle": "2024-11-18T22:54:19.079336Z",
     "shell.execute_reply": "2024-11-18T22:54:19.077787Z",
     "shell.execute_reply.started": "2024-11-18T22:54:19.057631Z"
    },
    "trusted": true
   },
   "outputs": [],
   "source": [
    "df.head()"
   ]
  },
  {
   "cell_type": "code",
   "execution_count": null,
   "metadata": {
    "execution": {
     "iopub.execute_input": "2024-11-18T22:54:21.244728Z",
     "iopub.status.busy": "2024-11-18T22:54:21.244273Z",
     "iopub.status.idle": "2024-11-18T22:54:21.298123Z",
     "shell.execute_reply": "2024-11-18T22:54:21.296885Z",
     "shell.execute_reply.started": "2024-11-18T22:54:21.244692Z"
    },
    "trusted": true
   },
   "outputs": [],
   "source": [
    "df.describe()"
   ]
  },
  {
   "cell_type": "markdown",
   "metadata": {},
   "source": [
    "# Training"
   ]
  },
  {
   "cell_type": "code",
   "execution_count": null,
   "metadata": {
    "execution": {
     "iopub.execute_input": "2024-11-18T22:54:23.503986Z",
     "iopub.status.busy": "2024-11-18T22:54:23.503543Z",
     "iopub.status.idle": "2024-11-18T22:54:23.515011Z",
     "shell.execute_reply": "2024-11-18T22:54:23.513605Z",
     "shell.execute_reply.started": "2024-11-18T22:54:23.503952Z"
    },
    "trusted": true
   },
   "outputs": [],
   "source": [
    "# Se decidió descartar 'mode ya que, al ser incluida en el dataset, las predicciones siempre coinciden con el \"mode\" original (Mayor o menor). Pero los oyentes no escuchan exclusivamente música de un modo, sino que consumen ambos modos de forma indistinta.\n",
    "df.drop(columns=['mode'],inplace=True)"
   ]
  },
  {
   "cell_type": "code",
   "execution_count": null,
   "metadata": {
    "execution": {
     "iopub.execute_input": "2024-11-18T22:54:25.946836Z",
     "iopub.status.busy": "2024-11-18T22:54:25.946196Z",
     "iopub.status.idle": "2024-11-18T22:54:25.959273Z",
     "shell.execute_reply": "2024-11-18T22:54:25.957584Z",
     "shell.execute_reply.started": "2024-11-18T22:54:25.946778Z"
    },
    "trusted": true
   },
   "outputs": [],
   "source": [
    "# Selecting relevant audio features\n",
    "features = ['track_popularity', 'danceability', 'energy',\n",
    "       'loudness', 'speechiness', 'acousticness', 'instrumentalness',\n",
    "       'liveness', 'valence', 'tempo', 'duration_ms', 'year']\n",
    "# ¿incluir track popularity?\n",
    "# ¿¿ Eliminación 'acousticness' por alta correlación con 'energy' y 'loudness' ??\n",
    "# Reintroducir feature: mode\n",
    "\n",
    "X = df[features].values.astype('float32')"
   ]
  },
  {
   "cell_type": "code",
   "execution_count": null,
   "metadata": {
    "execution": {
     "iopub.execute_input": "2024-11-15T02:01:37.098437Z",
     "iopub.status.busy": "2024-11-15T02:01:37.098154Z",
     "iopub.status.idle": "2024-11-15T02:01:37.113656Z",
     "shell.execute_reply": "2024-11-15T02:01:37.112709Z",
     "shell.execute_reply.started": "2024-11-15T02:01:37.098400Z"
    },
    "trusted": true
   },
   "outputs": [],
   "source": [
    "# Splitting the data\n",
    "X_train, X_test = train_test_split(X, test_size=0.3, random_state=42)"
   ]
  },
  {
   "cell_type": "code",
   "execution_count": null,
   "metadata": {
    "execution": {
     "iopub.execute_input": "2024-11-15T02:01:37.116098Z",
     "iopub.status.busy": "2024-11-15T02:01:37.115806Z",
     "iopub.status.idle": "2024-11-15T02:01:37.168470Z",
     "shell.execute_reply": "2024-11-15T02:01:37.167512Z",
     "shell.execute_reply.started": "2024-11-15T02:01:37.116068Z"
    },
    "trusted": true
   },
   "outputs": [],
   "source": [
    "model = Sequential([\n",
    "    Input(shape=(len(features),)),\n",
    "    Dense(128, activation='relu'),\n",
    "    Dropout(0.3),\n",
    "    Dense(64, activation='relu'),\n",
    "    Dropout(0.3),\n",
    "    Dense(32, activation='relu', name=\"embedding_layer\"), # Embedding layer\n",
    "    Dense(16, activation='relu'),\n",
    "    Dense(len(features), activation='linear') # Output layer for reconstruction\n",
    "])\n",
    "\n",
    "model.compile(optimizer=Adam(learning_rate=0.001), loss='mse')"
   ]
  },
  {
   "cell_type": "code",
   "execution_count": null,
   "metadata": {
    "execution": {
     "iopub.execute_input": "2024-11-15T02:01:37.170485Z",
     "iopub.status.busy": "2024-11-15T02:01:37.169832Z",
     "iopub.status.idle": "2024-11-15T02:02:39.830672Z",
     "shell.execute_reply": "2024-11-15T02:02:39.829735Z",
     "shell.execute_reply.started": "2024-11-15T02:01:37.170451Z"
    },
    "trusted": true
   },
   "outputs": [],
   "source": [
    "# Entrenamiento del modelo y guardar el historial\n",
    "history = model.fit(X_train, X_train, epochs=50, batch_size=32, validation_data=(X_test, X_test))"
   ]
  },
  {
   "cell_type": "code",
   "execution_count": null,
   "metadata": {
    "execution": {
     "iopub.execute_input": "2024-11-15T02:02:39.834436Z",
     "iopub.status.busy": "2024-11-15T02:02:39.834119Z",
     "iopub.status.idle": "2024-11-15T02:02:40.160643Z",
     "shell.execute_reply": "2024-11-15T02:02:40.159687Z",
     "shell.execute_reply.started": "2024-11-15T02:02:39.834404Z"
    },
    "trusted": true
   },
   "outputs": [],
   "source": [
    "# Graficar la pérdida de entrenamiento y validación\n",
    "plt.plot(history.history['loss'], label='Training loss')\n",
    "plt.plot(history.history['val_loss'], label='Validation loss')\n",
    "plt.xlabel('Epochs')\n",
    "plt.ylabel('Loss')\n",
    "plt.legend()\n",
    "plt.title('Curva de Entrenamiento y Validación')\n",
    "plt.show()"
   ]
  },
  {
   "cell_type": "code",
   "execution_count": null,
   "metadata": {
    "execution": {
     "iopub.execute_input": "2024-11-15T02:02:40.162327Z",
     "iopub.status.busy": "2024-11-15T02:02:40.161923Z",
     "iopub.status.idle": "2024-11-15T02:02:41.897659Z",
     "shell.execute_reply": "2024-11-15T02:02:41.896695Z",
     "shell.execute_reply.started": "2024-11-15T02:02:40.162281Z"
    },
    "trusted": true
   },
   "outputs": [],
   "source": [
    "# Define model with the functional API\n",
    "input_layer = Input(shape=(len(features),))\n",
    "x = Dense(128, activation='relu')(input_layer)\n",
    "x = Dropout(0.3)(x)\n",
    "embedding_layer = Dense(64, activation='relu', name=\"embedding_layer\")(x)  # Named embedding layer\n",
    "x = Dropout(0.3)(embedding_layer)\n",
    "x = Dense(32, activation='relu')(x)\n",
    "output_layer = Dense(len(features), activation='linear')(x)\n",
    "\n",
    "# Compile the model\n",
    "model = Model(inputs=input_layer, outputs=output_layer)\n",
    "model.compile(optimizer=Adam(learning_rate=0.001), loss='mse')\n",
    "\n",
    "# Initialize the model by running a sample input through it\n",
    "sample_input = np.random.rand(1, len(features))  # Sample input\n",
    "_ = model.predict(sample_input)  # Initialize the model\n",
    "\n",
    "# Extract embeddings using the embedding layer directly\n",
    "embedding_model = Model(inputs=model.input, outputs=model.get_layer(\"embedding_layer\").output)\n",
    "song_embeddings = embedding_model.predict(X)\n",
    "\n",
    "print(\"Embeddings shape:\", song_embeddings.shape)\n"
   ]
  },
  {
   "cell_type": "code",
   "execution_count": null,
   "metadata": {
    "execution": {
     "iopub.execute_input": "2024-11-15T02:02:41.899193Z",
     "iopub.status.busy": "2024-11-15T02:02:41.898854Z",
     "iopub.status.idle": "2024-11-15T02:02:41.919376Z",
     "shell.execute_reply": "2024-11-15T02:02:41.918638Z",
     "shell.execute_reply.started": "2024-11-15T02:02:41.899159Z"
    },
    "trusted": true
   },
   "outputs": [],
   "source": [
    "# Exportación del modelo\n",
    "embedding_model.save(\"/kaggle/working/songs_embeddings.h5\")"
   ]
  },
  {
   "cell_type": "markdown",
   "metadata": {},
   "source": [
    "## Predicción"
   ]
  },
  {
   "cell_type": "markdown",
   "metadata": {},
   "source": [
    "### Búsqueda por género"
   ]
  },
  {
   "cell_type": "code",
   "execution_count": null,
   "metadata": {
    "execution": {
     "iopub.execute_input": "2024-11-15T02:02:41.920703Z",
     "iopub.status.busy": "2024-11-15T02:02:41.920404Z",
     "iopub.status.idle": "2024-11-15T02:02:41.952827Z",
     "shell.execute_reply": "2024-11-15T02:02:41.951998Z",
     "shell.execute_reply.started": "2024-11-15T02:02:41.920671Z"
    },
    "trusted": true
   },
   "outputs": [],
   "source": [
    "# Índices para facilitar la búsqueda por género\n",
    "genres = ['pop', # 0\n",
    "          'rock', # 1\n",
    "          'rap', # 2\n",
    "          'r&b', # 3\n",
    "          'edm', # 4\n",
    "          'latin'] # 5\n",
    "\n",
    "df[df['playlist_genre'] == genres[1]]  # Selecciona sólo un género\n",
    "#df[df['playlist_genre'] != genres[1]]  # Todos los demás géneros"
   ]
  },
  {
   "cell_type": "markdown",
   "metadata": {},
   "source": [
    "### Búsqueda por artista/canción"
   ]
  },
  {
   "cell_type": "code",
   "execution_count": null,
   "metadata": {
    "execution": {
     "iopub.execute_input": "2024-11-15T02:02:41.954234Z",
     "iopub.status.busy": "2024-11-15T02:02:41.953974Z",
     "iopub.status.idle": "2024-11-15T02:02:41.975874Z",
     "shell.execute_reply": "2024-11-15T02:02:41.974827Z",
     "shell.execute_reply.started": "2024-11-15T02:02:41.954206Z"
    },
    "trusted": true
   },
   "outputs": [],
   "source": [
    "# Búsqueda por artista/nombre\n",
    "df.loc[df['track_artist'] == 'Perotá Chingó']\n",
    "#df.loc[df['track_name'] == 'Yesterday']"
   ]
  },
  {
   "cell_type": "markdown",
   "metadata": {},
   "source": [
    "### Búsqueda por ID"
   ]
  },
  {
   "cell_type": "markdown",
   "metadata": {},
   "source": [
    "Ejemplos de testing:\n",
    "- 3gu0fRSgFuc4FmrtIv0DnC (Reggaeton)\n",
    "- 0r7CVbZTWZgbTCYdfa2P31 (pop)\n",
    "- 5yY9lUy8nbvjM1Uyo1Uqoc (rap)\n",
    "- 1VgQ6AZ8tVV0uhvhH9usuj (\"latin\") Vértigo by Perotá Chingó"
   ]
  },
  {
   "cell_type": "code",
   "execution_count": null,
   "metadata": {
    "execution": {
     "iopub.execute_input": "2024-11-18T22:52:03.852651Z",
     "iopub.status.busy": "2024-11-18T22:52:03.852100Z",
     "iopub.status.idle": "2024-11-18T22:52:03.871913Z",
     "shell.execute_reply": "2024-11-18T22:52:03.870590Z",
     "shell.execute_reply.started": "2024-11-18T22:52:03.852611Z"
    },
    "trusted": true
   },
   "outputs": [],
   "source": [
    "# Búsqueda por ID\n",
    "id_ = \"5CMjjywI0eZMixPeqNd75R\"\n",
    "name = df.loc[df['track_id'] == id_]\n",
    "song_index = df[df['track_id'] == id_].index.item()\n",
    "print(name.iloc[0]['track_name'], 'by', name.iloc[0]['track_artist'], 'on album', name.iloc[0]['track_album_name'])\n",
    "#print(song_index)\n",
    "print()\n",
    "df.iloc[song_index]"
   ]
  },
  {
   "cell_type": "code",
   "execution_count": null,
   "metadata": {
    "execution": {
     "iopub.execute_input": "2024-11-15T02:02:41.999631Z",
     "iopub.status.busy": "2024-11-15T02:02:41.999324Z",
     "iopub.status.idle": "2024-11-15T02:02:42.008835Z",
     "shell.execute_reply": "2024-11-15T02:02:42.007976Z",
     "shell.execute_reply.started": "2024-11-15T02:02:41.999598Z"
    },
    "trusted": true
   },
   "outputs": [],
   "source": [
    "# Búsqueda por index\n",
    "#song_index = 12616  # For example, the first song in the dataset\n",
    "\"\"\"\n",
    "name = df.loc[df['track_id'] == df.iloc[song_index]['track_id']]\n",
    "print(name.iloc[0]['track_name'], 'by', name.iloc[0]['track_artist'], 'on album', name.iloc[0]['track_album_name'])\n",
    "print()\n",
    "\n",
    "df.iloc[song_index]\n",
    "\"\"\""
   ]
  },
  {
   "cell_type": "markdown",
   "metadata": {},
   "source": [
    "### Generación de recomendaciones"
   ]
  },
  {
   "cell_type": "code",
   "execution_count": null,
   "metadata": {
    "execution": {
     "iopub.execute_input": "2024-11-18T22:52:06.576482Z",
     "iopub.status.busy": "2024-11-18T22:52:06.576079Z",
     "iopub.status.idle": "2024-11-18T22:52:06.609763Z",
     "shell.execute_reply": "2024-11-18T22:52:06.604562Z",
     "shell.execute_reply.started": "2024-11-18T22:52:06.576448Z"
    },
    "trusted": true
   },
   "outputs": [],
   "source": [
    "num_pred = 5 # Modificar a gusto para obtener más predicciones\n",
    "similarities = cosine_similarity([song_embeddings[song_index]], song_embeddings)[0]\n",
    "\n",
    "# Get top n most similar songs (excluding itself)\n",
    "similar_indices = np.argsort(similarities)[-(num_pred+1):-1][::-1]\n",
    "similar_songs = df.iloc[similar_indices]\n",
    "\n",
    "for i, song in enumerate(similar_songs.index):\n",
    "    print(f\"\"\"{i+1}º) \"{similar_songs.loc[song, 'track_name']}\" by {similar_songs.loc[song, 'track_artist']} on album \"{similar_songs.loc[song, 'track_album_name']}\" ({similar_songs.loc[song, 'playlist_genre'].title()})\\n\"\"\")"
   ]
  },
  {
   "cell_type": "code",
   "execution_count": null,
   "metadata": {
    "execution": {
     "iopub.execute_input": "2024-11-18T22:17:19.650180Z",
     "iopub.status.busy": "2024-11-18T22:17:19.649720Z",
     "iopub.status.idle": "2024-11-18T22:17:19.674804Z",
     "shell.execute_reply": "2024-11-18T22:17:19.673442Z",
     "shell.execute_reply.started": "2024-11-18T22:17:19.650146Z"
    },
    "trusted": true
   },
   "outputs": [],
   "source": [
    "similar_songs"
   ]
  },
  {
   "cell_type": "markdown",
   "metadata": {},
   "source": [
    "## Análisis de resultados"
   ]
  },
  {
   "cell_type": "code",
   "execution_count": null,
   "metadata": {
    "execution": {
     "iopub.execute_input": "2024-11-18T22:52:10.188368Z",
     "iopub.status.busy": "2024-11-18T22:52:10.187922Z",
     "iopub.status.idle": "2024-11-18T22:52:10.208189Z",
     "shell.execute_reply": "2024-11-18T22:52:10.206664Z",
     "shell.execute_reply.started": "2024-11-18T22:52:10.188334Z"
    },
    "trusted": true
   },
   "outputs": [],
   "source": [
    "# 0. Canción original (user input)\n",
    "song = df.iloc[song_index].copy()\n",
    "song = song.drop(index=['track_id','track_name','track_artist','playlist_genre',\n",
    "                       'track_album_id','track_album_name'])\n",
    "song = song.astype(float)\n",
    "\n",
    "# 0. Calcular la media de las características en el dataframe completo\n",
    "df_mean = df[features].mean()\n",
    "\n",
    "# 1. Filtrar las canciones similares usando los índices y calcular la media\n",
    "similar_mean = similar_songs[features].mean()\n",
    "\n",
    "# 2. Crear un DataFrame que contenga ambas medias para fácil comparación\n",
    "comparison_df = pd.DataFrame({'Original song': song, 'Similar songs': similar_mean})\n",
    "\n",
    "# 3. Calcular el RMSE entre la canción original y la media de las canciones similares\n",
    "comparison_df['Similarity (RMSE)'] = np.sqrt((comparison_df['Original song'] - comparison_df['Similar songs']) ** 2)\n",
    "comparison_df['Other songs'] = df_mean\n",
    "\n",
    "# 4. Calcular el RMSE entre la media de canciones similares y la media general\n",
    "comparison_df['Difference (RMSE)'] = np.sqrt((comparison_df['Similar songs'] - comparison_df['Other songs']) ** 2)\n",
    "\n",
    "# 5. Compara el RMSE de la predicción contra la media del dataset (Normalizado)\n",
    "comparison_df['Eficacia (%)'] =  comparison_df['Difference (RMSE)'] / (comparison_df['Similarity (RMSE)'] + comparison_df['Difference (RMSE)'])\n",
    "# Valores cercanos a 1 indican una predicción excelente\n",
    "# Valores cercanos a 0 indican una predicción pobre (RMSE similar entre la predicción y la media)"
   ]
  },
  {
   "cell_type": "code",
   "execution_count": null,
   "metadata": {
    "execution": {
     "iopub.execute_input": "2024-11-18T22:52:12.290643Z",
     "iopub.status.busy": "2024-11-18T22:52:12.290089Z",
     "iopub.status.idle": "2024-11-18T22:52:12.308271Z",
     "shell.execute_reply": "2024-11-18T22:52:12.307175Z",
     "shell.execute_reply.started": "2024-11-18T22:52:12.290592Z"
    },
    "trusted": true
   },
   "outputs": [],
   "source": [
    "comparison_df"
   ]
  },
  {
   "cell_type": "markdown",
   "metadata": {},
   "source": [
    "**NOTAS:**\n",
    "- Similarity/Diference: representan la proximidad de los datos a través del RMSE (0 es \"similar\" | 1 es \"diferente\")\n",
    "- Eficacia: 1 indica una predicción excelente. 0 indica una predicción pobre."
   ]
  },
  {
   "cell_type": "code",
   "execution_count": null,
   "metadata": {
    "execution": {
     "iopub.execute_input": "2024-11-18T22:52:15.008570Z",
     "iopub.status.busy": "2024-11-18T22:52:15.008052Z",
     "iopub.status.idle": "2024-11-18T22:52:15.532142Z",
     "shell.execute_reply": "2024-11-18T22:52:15.530684Z",
     "shell.execute_reply.started": "2024-11-18T22:52:15.008519Z"
    },
    "trusted": true
   },
   "outputs": [],
   "source": [
    "# Define the color map from blue (near 0) to red (near 1) for Eficacia\n",
    "norm = plt.Normalize(0, 1)\n",
    "sm = plt.cm.ScalarMappable(cmap=\"coolwarm\", norm=norm)\n",
    "sm.set_array([])  # Setting an empty array to avoid warnings\n",
    "\n",
    "# Create the figure and plot each bar with color based on Eficacia value\n",
    "fig, ax = plt.subplots(figsize=(15, 6))\n",
    "bars = ax.bar(comparison_df.index, comparison_df['Eficacia (%)'], color=sm.to_rgba(comparison_df['Eficacia (%)']))\n",
    "\n",
    "# Personalizar las etiquetas del eje x\n",
    "ax.set_xticks(range(len(comparison_df.index)))\n",
    "ax.set_xticklabels(comparison_df.index, rotation=45, ha='right', fontsize=10)\n",
    "\n",
    "# Labels and title\n",
    "ax.set_xlabel(\"Features\")\n",
    "ax.set_ylabel(\"Eficacia (Normalized between 0 and 1)\")\n",
    "ax.set_title(\"Normalized Eficacia for Each Feature\")\n",
    "\n",
    "# Add color bar with a specified axis\n",
    "cbar = fig.colorbar(sm, ax=ax, orientation='vertical', pad=0.02)\n",
    "cbar.set_label('Eficacia scale (0: Blue, 1: Red)')\n",
    "\n",
    "plt.tight_layout()\n",
    "plt.show()\n"
   ]
  },
  {
   "cell_type": "code",
   "execution_count": null,
   "metadata": {
    "execution": {
     "iopub.execute_input": "2024-11-18T22:52:24.098634Z",
     "iopub.status.busy": "2024-11-18T22:52:24.097904Z",
     "iopub.status.idle": "2024-11-18T22:52:24.111153Z",
     "shell.execute_reply": "2024-11-18T22:52:24.109563Z",
     "shell.execute_reply.started": "2024-11-18T22:52:24.098592Z"
    },
    "trusted": true
   },
   "outputs": [],
   "source": [
    "threshold = 0.6\n",
    "indices = comparison_df[comparison_df['Eficacia (%)'] > threshold].index\n",
    "top_features = comparison_df.loc[indices].sort_values(by=\"Eficacia (%)\", ascending=False)\n",
    "print(\"Eficacia de los features representativos:\")\n",
    "for i, (feature, row) in enumerate(top_features['Eficacia (%)'].items(), start=1):\n",
    "    print(f\"{i}º) {feature}: {row*100:.1f}%\")\n",
    "    \n",
    "#print(top_features['Eficacia'])"
   ]
  },
  {
   "cell_type": "markdown",
   "metadata": {},
   "source": [
    "**Ideas:**\n",
    "- Se puede ponderar el peso de ciertas features en la búsqueda (por ejemplo el año)\n",
    "- Se puede incluir un feature que indique el idioma de la letra."
   ]
  },
  {
   "cell_type": "markdown",
   "metadata": {},
   "source": [
    "**Observaciones:**\n",
    "- Es probable que mode no sea de utilidad. Al ser incluida en el dataset, la predicción siempre coincide con el \"mode\" original, pero los oyentes no escuchan exclusivamente música de un modo.\n",
    "- Pareciera que la búsqueda de similitud tiende a evitar outliers."
   ]
  },
  {
   "cell_type": "markdown",
   "metadata": {},
   "source": [
    "# ‼️ Predicción para canción externa ⚠️"
   ]
  },
  {
   "cell_type": "markdown",
   "metadata": {},
   "source": [
    "Recibe los features de la API de Spotify"
   ]
  },
  {
   "cell_type": "markdown",
   "metadata": {},
   "source": [
    "{'track_id': '1z1Hg7Vb0AhHDiEmnDE79l',\n",
    " 'track_name': 'All the Time - Don Diablo Remix',\n",
    " 'track_artist': 'Zara Larsson',\n",
    " 'track_artist_id': '1Xylc3o4UrD53lo9CvFvVg',\n",
    " 'track_popularity': 42,\n",
    " 'track_album_id': '1HoSmj2eLcsrR0vE9gThr4',\n",
    " 'track_album_name': 'All the Time (Don Diablo Remix)',\n",
    " 'album_release_date': '2019-07-05',\n",
    " 'year': 2019,\n",
    " 'danceability': 0.675,\n",
    " 'energy': 0.931,\n",
    " 'key': 1,\n",
    " 'loudness': -3.432,\n",
    " 'mode': 0,\n",
    " 'speechiness': 0.0742,\n",
    " 'acousticness': 0.0794,\n",
    " 'instrumentalness': 2.33e-05,\n",
    " 'liveness': 0.11,\n",
    " 'valence': 0.613,\n",
    " 'tempo': 124.008,\n",
    " 'duration_ms': 176616}"
   ]
  },
  {
   "cell_type": "code",
   "execution_count": null,
   "metadata": {
    "execution": {
     "iopub.execute_input": "2024-11-18T22:53:12.681195Z",
     "iopub.status.busy": "2024-11-18T22:53:12.680758Z",
     "iopub.status.idle": "2024-11-18T22:53:12.688821Z",
     "shell.execute_reply": "2024-11-18T22:53:12.687267Z",
     "shell.execute_reply.started": "2024-11-18T22:53:12.681161Z"
    },
    "trusted": true
   },
   "outputs": [],
   "source": [
    "# Crear X[new_song] con los features\n",
    "features = {'track_id': '1z1Hg7Vb0AhHDiEmnDE79l',\n",
    " 'track_name': 'All the Time - Don Diablo Remix',\n",
    " 'track_artist': 'Zara Larsson',\n",
    " 'track_artist_id': '1Xylc3o4UrD53lo9CvFvVg',\n",
    " 'track_popularity': 42,\n",
    " 'track_album_id': '1HoSmj2eLcsrR0vE9gThr4',\n",
    " 'track_album_name': 'All the Time (Don Diablo Remix)',\n",
    " 'album_release_date': '2019-07-05', # Debería llamarse 'track_album_release_date'\n",
    " 'year': 2019,\n",
    " 'danceability': 0.675,\n",
    " 'energy': 0.931,\n",
    " 'key': 1,\n",
    " 'loudness': -3.432,\n",
    " 'mode': 0,\n",
    " 'speechiness': 0.0742,\n",
    " 'acousticness': 0.0794,\n",
    " 'instrumentalness': 2.33e-05,\n",
    " 'liveness': 0.11,\n",
    " 'valence': 0.613,\n",
    " 'tempo': 124.008,\n",
    " 'duration_ms': 176616}\n",
    "\n",
    "#features = pd.DataFrame([features])\n"
   ]
  },
  {
   "cell_type": "code",
   "execution_count": null,
   "metadata": {
    "execution": {
     "iopub.execute_input": "2024-11-18T22:53:20.060079Z",
     "iopub.status.busy": "2024-11-18T22:53:20.059578Z",
     "iopub.status.idle": "2024-11-18T22:53:20.068952Z",
     "shell.execute_reply": "2024-11-18T22:53:20.067584Z",
     "shell.execute_reply.started": "2024-11-18T22:53:20.060042Z"
    },
    "trusted": true
   },
   "outputs": [],
   "source": [
    "song = pd.DataFrame([features])"
   ]
  },
  {
   "cell_type": "code",
   "execution_count": null,
   "metadata": {
    "execution": {
     "iopub.execute_input": "2024-11-18T21:47:23.034374Z",
     "iopub.status.busy": "2024-11-18T21:47:23.032833Z",
     "iopub.status.idle": "2024-11-18T21:47:23.079462Z",
     "shell.execute_reply": "2024-11-18T21:47:23.077657Z",
     "shell.execute_reply.started": "2024-11-18T21:47:23.034315Z"
    },
    "trusted": true
   },
   "outputs": [],
   "source": [
    "# Input from API data\n",
    "song"
   ]
  },
  {
   "cell_type": "code",
   "execution_count": null,
   "metadata": {
    "execution": {
     "iopub.execute_input": "2024-11-18T22:53:34.478419Z",
     "iopub.status.busy": "2024-11-18T22:53:34.477952Z",
     "iopub.status.idle": "2024-11-18T22:53:34.489286Z",
     "shell.execute_reply": "2024-11-18T22:53:34.487802Z",
     "shell.execute_reply.started": "2024-11-18T22:53:34.478382Z"
    },
    "trusted": true
   },
   "outputs": [],
   "source": [
    "# REMOVER para producción\n",
    "# Verifico columnas faltantes\n",
    "\n",
    "A = song.columns.tolist()\n",
    "B = df.columns.tolist()\n",
    "print(len(A), len(B))\n",
    "for col in A:\n",
    "    #print(col)\n",
    "    for i in range(len(B)):\n",
    "        if B[i] == col:\n",
    "            #print(col, 'encontrado')\n",
    "            #print(i)\n",
    "            B.pop(i)\n",
    "            break\n",
    "\n",
    "if B != []:\n",
    "    print(f'{B} no encontrado en \"song\"')\n",
    "else:\n",
    "    print('Todas las columnas encontradas en \"song\"')\n",
    "    \n",
    "B = song.columns.tolist()\n",
    "A = df.columns.tolist()\n",
    "print(len(A), len(B))\n",
    "for col in A:\n",
    "    #print(col)\n",
    "    for i in range(len(B)):\n",
    "        if B[i] == col:\n",
    "            #print(col, 'encontrado')\n",
    "            #print(i)\n",
    "            B.pop(i)\n",
    "            break\n",
    "\n",
    "if B != []:\n",
    "    print(f'{B} no encontrado en \"dataframe\"')\n",
    "else:\n",
    "    print('Todas las columnas encontradas en \"dataframe\"')"
   ]
  },
  {
   "cell_type": "markdown",
   "metadata": {},
   "source": [
    "## Feature transformation"
   ]
  },
  {
   "cell_type": "markdown",
   "metadata": {},
   "source": [
    "Elimina datos que no se usan para el embedding"
   ]
  },
  {
   "cell_type": "code",
   "execution_count": null,
   "metadata": {
    "execution": {
     "iopub.execute_input": "2024-11-18T22:53:37.909687Z",
     "iopub.status.busy": "2024-11-18T22:53:37.908286Z",
     "iopub.status.idle": "2024-11-18T22:53:37.916171Z",
     "shell.execute_reply": "2024-11-18T22:53:37.914757Z",
     "shell.execute_reply.started": "2024-11-18T22:53:37.909640Z"
    },
    "trusted": true
   },
   "outputs": [],
   "source": [
    "song.drop(columns=['mode', 'album_release_date', 'track_artist_id', 'album_release_date', 'key'],inplace=True)"
   ]
  },
  {
   "cell_type": "markdown",
   "metadata": {},
   "source": [
    "Aplica la misma transformación de los datos originales"
   ]
  },
  {
   "cell_type": "code",
   "execution_count": null,
   "metadata": {
    "execution": {
     "iopub.execute_input": "2024-11-18T22:53:39.931332Z",
     "iopub.status.busy": "2024-11-18T22:53:39.930922Z",
     "iopub.status.idle": "2024-11-18T22:53:40.042080Z",
     "shell.execute_reply": "2024-11-18T22:53:40.040366Z",
     "shell.execute_reply.started": "2024-11-18T22:53:39.931299Z"
    },
    "trusted": true
   },
   "outputs": [],
   "source": [
    "# Escalado de variables\n",
    "import pickle\n",
    "from sklearn.preprocessing import MinMaxScaler\n",
    "\n",
    "with open('/kaggle/input/transformations/scaler_minmax.pkl', 'rb') as f:\n",
    "    scaler = pickle.load(f)\n",
    "\n",
    "# Transformar nuevos datos usando el scaler cargado\n",
    "song_scaled[['track_popularity','loudness','tempo','duration_ms','year']] = scaler.transform(song[['track_popularity','loudness','tempo','duration_ms','year']])\n",
    "song_scaled.describe()"
   ]
  },
  {
   "cell_type": "code",
   "execution_count": null,
   "metadata": {
    "execution": {
     "iopub.execute_input": "2024-11-18T21:54:33.505652Z",
     "iopub.status.busy": "2024-11-18T21:54:33.504373Z",
     "iopub.status.idle": "2024-11-18T21:54:33.516802Z",
     "shell.execute_reply": "2024-11-18T21:54:33.515285Z",
     "shell.execute_reply.started": "2024-11-18T21:54:33.505589Z"
    },
    "trusted": true
   },
   "outputs": [],
   "source": [
    "# Define custom transformers\n",
    "def cube(x):\n",
    "    return x ** 3\n",
    "\n",
    "def custom(x):\n",
    "    return x**3\n",
    "\n",
    "# Mapping of transformer functions to names\n",
    "transformer_name_map = {\n",
    "    np.log1p: 'log1p',\n",
    "    np.sqrt: 'sqrt',\n",
    "    np.square: 'square',\n",
    "    np.exp: 'exp',\n",
    "    cube: 'cube',\n",
    "    custom: '<lambda>'\n",
    "}\n",
    "\n",
    "# Reverse mapping of names to functions\n",
    "function_map = {v: k for k, v in transformer_name_map.items()}"
   ]
  },
  {
   "cell_type": "code",
   "execution_count": null,
   "metadata": {
    "execution": {
     "iopub.execute_input": "2024-11-18T21:54:37.346557Z",
     "iopub.status.busy": "2024-11-18T21:54:37.346030Z",
     "iopub.status.idle": "2024-11-18T21:54:37.362126Z",
     "shell.execute_reply": "2024-11-18T21:54:37.360440Z",
     "shell.execute_reply.started": "2024-11-18T21:54:37.346477Z"
    },
    "trusted": true
   },
   "outputs": [],
   "source": [
    "skew_df"
   ]
  },
  {
   "cell_type": "code",
   "execution_count": null,
   "metadata": {
    "execution": {
     "iopub.execute_input": "2024-11-18T21:54:43.124622Z",
     "iopub.status.busy": "2024-11-18T21:54:43.124114Z",
     "iopub.status.idle": "2024-11-18T21:54:43.145475Z",
     "shell.execute_reply": "2024-11-18T21:54:43.144130Z",
     "shell.execute_reply.started": "2024-11-18T21:54:43.124574Z"
    },
    "trusted": true
   },
   "outputs": [],
   "source": [
    "# Corrección de Skewness\n",
    "skew_df = pd.read_csv('/kaggle/input/transformations/skew_correct.csv')\n",
    "\n",
    "def apply_transformations(df, skew_df):\n",
    "    for idx, row in skew_df.iterrows():\n",
    "        feature = row['feature']\n",
    "        transformer_name = row['transformer']\n",
    "        \n",
    "        if transformer_name != 'None' and feature in df.columns:\n",
    "            transformer = function_map.get(transformer_name)\n",
    "            if transformer is not None:\n",
    "                if transformer == np.sqrt:\n",
    "                    df[feature] = transformer(df[feature] + 1)\n",
    "                else:\n",
    "                    df[feature] = transformer(df[feature])\n",
    "            else:\n",
    "                print(f\"Transformer '{transformer_name}' not found for feature '{feature}'.\")\n",
    "    return df\n",
    "\n",
    "# Assuming 'new_df' is your new dataset\n",
    "song_scaled = apply_transformations(song_scaled, skew_df)\n"
   ]
  },
  {
   "cell_type": "code",
   "execution_count": null,
   "metadata": {
    "execution": {
     "iopub.execute_input": "2024-11-18T22:19:58.376517Z",
     "iopub.status.busy": "2024-11-18T22:19:58.375856Z",
     "iopub.status.idle": "2024-11-18T22:19:58.397262Z",
     "shell.execute_reply": "2024-11-18T22:19:58.395669Z",
     "shell.execute_reply.started": "2024-11-18T22:19:58.376446Z"
    },
    "trusted": true
   },
   "outputs": [],
   "source": [
    "# Output formatted for model\n",
    "song_scaled"
   ]
  },
  {
   "cell_type": "markdown",
   "metadata": {},
   "source": [
    "### Comparación de features escalados (verificación)"
   ]
  },
  {
   "cell_type": "code",
   "execution_count": null,
   "metadata": {
    "execution": {
     "iopub.execute_input": "2024-11-18T21:47:26.836326Z",
     "iopub.status.busy": "2024-11-18T21:47:26.835897Z",
     "iopub.status.idle": "2024-11-18T21:47:26.893978Z",
     "shell.execute_reply": "2024-11-18T21:47:26.892603Z",
     "shell.execute_reply.started": "2024-11-18T21:47:26.836292Z"
    },
    "trusted": true
   },
   "outputs": [],
   "source": [
    "song.describe()"
   ]
  },
  {
   "cell_type": "code",
   "execution_count": null,
   "metadata": {
    "execution": {
     "iopub.execute_input": "2024-11-18T21:55:29.385612Z",
     "iopub.status.busy": "2024-11-18T21:55:29.385174Z",
     "iopub.status.idle": "2024-11-18T21:55:29.428721Z",
     "shell.execute_reply": "2024-11-18T21:55:29.427536Z",
     "shell.execute_reply.started": "2024-11-18T21:55:29.385577Z"
    },
    "trusted": true
   },
   "outputs": [],
   "source": [
    "song_scaled.describe()"
   ]
  },
  {
   "cell_type": "code",
   "execution_count": null,
   "metadata": {
    "execution": {
     "iopub.execute_input": "2024-11-18T21:47:28.918345Z",
     "iopub.status.busy": "2024-11-18T21:47:28.917931Z",
     "iopub.status.idle": "2024-11-18T21:47:28.973475Z",
     "shell.execute_reply": "2024-11-18T21:47:28.972122Z",
     "shell.execute_reply.started": "2024-11-18T21:47:28.918314Z"
    },
    "trusted": true
   },
   "outputs": [],
   "source": [
    "df.describe()"
   ]
  },
  {
   "cell_type": "markdown",
   "metadata": {},
   "source": [
    "## Prediction"
   ]
  },
  {
   "cell_type": "markdown",
   "metadata": {},
   "source": [
    "Genera embeddings con los features del input externo"
   ]
  },
  {
   "cell_type": "code",
   "execution_count": null,
   "metadata": {
    "execution": {
     "iopub.execute_input": "2024-11-18T22:02:27.593023Z",
     "iopub.status.busy": "2024-11-18T22:02:27.591706Z",
     "iopub.status.idle": "2024-11-18T22:02:27.600399Z",
     "shell.execute_reply": "2024-11-18T22:02:27.599047Z",
     "shell.execute_reply.started": "2024-11-18T22:02:27.592976Z"
    },
    "trusted": true
   },
   "outputs": [],
   "source": [
    "X_song = song_scaled[features].values.astype('float32')"
   ]
  },
  {
   "cell_type": "code",
   "execution_count": null,
   "metadata": {
    "execution": {
     "iopub.execute_input": "2024-11-18T22:02:29.930597Z",
     "iopub.status.busy": "2024-11-18T22:02:29.930117Z",
     "iopub.status.idle": "2024-11-18T22:02:30.824335Z",
     "shell.execute_reply": "2024-11-18T22:02:30.823265Z",
     "shell.execute_reply.started": "2024-11-18T22:02:29.930559Z"
    },
    "trusted": true
   },
   "outputs": [],
   "source": [
    "# Para nuevas caciones exsternas al dataset\n",
    "new_song_embedding = embedding_model.predict(X_song)"
   ]
  },
  {
   "cell_type": "markdown",
   "metadata": {},
   "source": [
    "Compara esos embeddings contra las canciones del dataset para buscar similitudes"
   ]
  },
  {
   "cell_type": "code",
   "execution_count": null,
   "metadata": {
    "execution": {
     "iopub.execute_input": "2024-11-18T22:20:22.319307Z",
     "iopub.status.busy": "2024-11-18T22:20:22.318892Z",
     "iopub.status.idle": "2024-11-18T22:20:22.344857Z",
     "shell.execute_reply": "2024-11-18T22:20:22.341722Z",
     "shell.execute_reply.started": "2024-11-18T22:20:22.319273Z"
    },
    "trusted": true
   },
   "outputs": [],
   "source": [
    "num_pred = 5 # Modificar a gusto para obtener más predicciones\n",
    "similarities = cosine_similarity(new_song_embedding, song_embeddings)[0]\n",
    "\n",
    "# Get top n most similar songs (excluding itself)\n",
    "similar_indices = np.argsort(similarities)[-(num_pred+1):-1][::-1]\n",
    "similar_songs = df.iloc[similar_indices]\n",
    "\n",
    "for i, song in enumerate(similar_songs.index):\n",
    "    print(f\"{i+1}º) \\\"{similar_songs.loc[song, 'track_name']}\\\" by {similar_songs.loc[song, 'track_artist']} on album \\\"{similar_songs.loc[song, 'track_album_name']}\\\"\\n\")"
   ]
  },
  {
   "cell_type": "code",
   "execution_count": null,
   "metadata": {
    "execution": {
     "iopub.execute_input": "2024-11-18T22:20:27.382576Z",
     "iopub.status.busy": "2024-11-18T22:20:27.381528Z",
     "iopub.status.idle": "2024-11-18T22:20:27.405422Z",
     "shell.execute_reply": "2024-11-18T22:20:27.404110Z",
     "shell.execute_reply.started": "2024-11-18T22:20:27.382512Z"
    },
    "trusted": true
   },
   "outputs": [],
   "source": [
    "similar_songs"
   ]
  },
  {
   "cell_type": "markdown",
   "metadata": {},
   "source": [
    "## Análisis de resultados"
   ]
  },
  {
   "cell_type": "code",
   "execution_count": null,
   "metadata": {
    "execution": {
     "iopub.execute_input": "2024-11-18T22:22:55.834989Z",
     "iopub.status.busy": "2024-11-18T22:22:55.834519Z",
     "iopub.status.idle": "2024-11-18T22:22:55.859399Z",
     "shell.execute_reply": "2024-11-18T22:22:55.858057Z",
     "shell.execute_reply.started": "2024-11-18T22:22:55.834949Z"
    },
    "trusted": true
   },
   "outputs": [],
   "source": [
    "# 0. Canción original (user input)\n",
    "song = song_scaled.copy().squeeze()\n",
    "song = song.drop(index=['track_id','track_name','track_artist',\n",
    "                       'track_album_id','track_album_name'])\n",
    "song = song.astype(float)\n",
    "\n",
    "# 0. Calcular la media de las características en el dataframe completo\n",
    "df_mean = df[features].mean()\n",
    "\n",
    "# 1. Filtrar las canciones similares usando los índices y calcular la media\n",
    "similar_mean = similar_songs[features].mean()\n",
    "\n",
    "# 2. Crear un DataFrame que contenga ambas medias para fácil comparación\n",
    "comparison_df = pd.DataFrame({'Original song': song, 'Similar songs': similar_mean})\n",
    "\n",
    "# 3. Calcular el RMSE entre la canción original y la media de las canciones similares\n",
    "comparison_df['Similarity (RMSE)'] = np.sqrt((comparison_df['Original song'] - comparison_df['Similar songs']) ** 2)\n",
    "comparison_df['Other songs'] = df_mean\n",
    "\n",
    "# 4. Calcular el RMSE entre la media de canciones similares y la media general\n",
    "comparison_df['Difference (RMSE)'] = np.sqrt((comparison_df['Similar songs'] - comparison_df['Other songs']) ** 2)\n",
    "\n",
    "# 5. Compara el RMSE de la predicción contra la media del dataset (Normalizado)\n",
    "comparison_df['Eficacia (%)'] =  comparison_df['Difference (RMSE)'] / (comparison_df['Similarity (RMSE)'] + comparison_df['Difference (RMSE)'])\n",
    "# Valores cercanos a 1 indican una predicción excelente\n",
    "# Valores cercanos a 0 indican una predicción pobre (RMSE similar entre la predicción y la media)"
   ]
  },
  {
   "cell_type": "code",
   "execution_count": null,
   "metadata": {
    "execution": {
     "iopub.execute_input": "2024-11-18T22:27:18.396228Z",
     "iopub.status.busy": "2024-11-18T22:27:18.395735Z",
     "iopub.status.idle": "2024-11-18T22:27:18.412130Z",
     "shell.execute_reply": "2024-11-18T22:27:18.410843Z",
     "shell.execute_reply.started": "2024-11-18T22:27:18.396187Z"
    },
    "trusted": true
   },
   "outputs": [],
   "source": [
    "comparison_df"
   ]
  },
  {
   "cell_type": "markdown",
   "metadata": {},
   "source": [
    "**NOTAS:**\n",
    "- Similarity/Diference: representan la proximidad de los datos a través del RMSE (0 es \"similar\" | 1 es \"diferente\")\n",
    "- Eficacia: 1 indica una predicción excelente. 0 indica una predicción pobre."
   ]
  },
  {
   "cell_type": "code",
   "execution_count": null,
   "metadata": {
    "execution": {
     "iopub.execute_input": "2024-11-18T22:30:29.298352Z",
     "iopub.status.busy": "2024-11-18T22:30:29.297883Z",
     "iopub.status.idle": "2024-11-18T22:30:29.307828Z",
     "shell.execute_reply": "2024-11-18T22:30:29.306242Z",
     "shell.execute_reply.started": "2024-11-18T22:30:29.298318Z"
    },
    "trusted": true
   },
   "outputs": [],
   "source": [
    "comparison_df.index"
   ]
  },
  {
   "cell_type": "code",
   "execution_count": null,
   "metadata": {
    "execution": {
     "iopub.execute_input": "2024-11-18T22:35:10.711437Z",
     "iopub.status.busy": "2024-11-18T22:35:10.709928Z",
     "iopub.status.idle": "2024-11-18T22:35:11.233097Z",
     "shell.execute_reply": "2024-11-18T22:35:11.231476Z",
     "shell.execute_reply.started": "2024-11-18T22:35:10.711388Z"
    },
    "trusted": true
   },
   "outputs": [],
   "source": [
    "# Define the color map from blue (near 0) to red (near 1) for Eficacia\n",
    "\n",
    "norm = plt.Normalize(0, 1)\n",
    "sm = plt.cm.ScalarMappable(cmap=\"coolwarm\", norm=norm)\n",
    "sm.set_array([])  # Setting an empty array to avoid warnings\n",
    "\n",
    "# Create the figure and plot each bar with color based on Eficacia value\n",
    "fig, ax = plt.subplots(figsize=(15, 6))\n",
    "\n",
    "bars = ax.bar(\n",
    "    comparison_df.index, \n",
    "    comparison_df['Eficacia (%)'], \n",
    "    color=sm.to_rgba(comparison_df['Eficacia (%)'])\n",
    ")\n",
    "\n",
    "# Personalizar las etiquetas del eje x\n",
    "ax.set_xticks(range(len(comparison_df.index)))\n",
    "ax.set_xticklabels(comparison_df.index, rotation=45, ha='right', fontsize=10)\n",
    "\n",
    "# Etiquetas de los ejes y título\n",
    "ax.set_xlabel(\"Features\")\n",
    "ax.set_ylabel(\"Eficacia (Normalized between 0 and 1)\")\n",
    "ax.set_title(\"Normalized Eficacia for Each Feature\")\n",
    "\n",
    "# Añadir una barra de colores\n",
    "cbar = fig.colorbar(sm, ax=ax, orientation='vertical', pad=0.02)\n",
    "cbar.set_label('Eficacia scale (0: Blue, 1: Red)')\n",
    "\n",
    "# Mostrar el gráfico\n",
    "plt.tight_layout()\n",
    "plt.show()"
   ]
  },
  {
   "cell_type": "code",
   "execution_count": null,
   "metadata": {
    "execution": {
     "iopub.execute_input": "2024-11-18T22:35:21.261349Z",
     "iopub.status.busy": "2024-11-18T22:35:21.260889Z",
     "iopub.status.idle": "2024-11-18T22:35:21.274008Z",
     "shell.execute_reply": "2024-11-18T22:35:21.272386Z",
     "shell.execute_reply.started": "2024-11-18T22:35:21.261313Z"
    },
    "trusted": true
   },
   "outputs": [],
   "source": [
    "threshold = 0.6\n",
    "indices = comparison_df[comparison_df['Eficacia (%)'] > threshold].index\n",
    "top_features = comparison_df.loc[indices].sort_values(by=\"Eficacia (%)\", ascending=False)\n",
    "print(\"Eficacia de los features representativos:\")\n",
    "for i, (feature, row) in enumerate(top_features['Eficacia (%)'].items(), start=1):\n",
    "    print(f\"{i}º) {feature}: {row*100:.1f}%\")\n",
    "    \n",
    "#print(top_features['Eficacia'])"
   ]
  }
 ],
 "metadata": {
  "kaggle": {
   "accelerator": "none",
   "dataSources": [
    {
     "datasetId": 6088657,
     "sourceId": 9909562,
     "sourceType": "datasetVersion"
    },
    {
     "datasetId": 6115670,
     "sourceId": 9945662,
     "sourceType": "datasetVersion"
    }
   ],
   "dockerImageVersionId": 30787,
   "isGpuEnabled": false,
   "isInternetEnabled": true,
   "language": "python",
   "sourceType": "notebook"
  },
  "kernelspec": {
   "display_name": "Python 3",
   "language": "python",
   "name": "python3"
  },
  "language_info": {
   "codemirror_mode": {
    "name": "ipython",
    "version": 3
   },
   "file_extension": ".py",
   "mimetype": "text/x-python",
   "name": "python",
   "nbconvert_exporter": "python",
   "pygments_lexer": "ipython3",
   "version": "3.12.2"
  }
 },
 "nbformat": 4,
 "nbformat_minor": 4
}
