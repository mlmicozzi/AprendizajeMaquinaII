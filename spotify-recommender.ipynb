{
 "cells": [
  {
   "cell_type": "code",
   "execution_count": null,
   "metadata": {
    "execution": {
     "iopub.execute_input": "2024-11-14T21:18:44.680960Z",
     "iopub.status.busy": "2024-11-14T21:18:44.680509Z",
     "iopub.status.idle": "2024-11-14T21:18:44.687116Z",
     "shell.execute_reply": "2024-11-14T21:18:44.686079Z",
     "shell.execute_reply.started": "2024-11-14T21:18:44.680921Z"
    },
    "trusted": true
   },
   "outputs": [],
   "source": [
    "# Librerías necesarias\n",
    "import pandas as pd\n",
    "import numpy as np\n",
    "from sklearn.model_selection import train_test_split\n",
    "from sklearn.metrics.pairwise import cosine_similarity\n",
    "from tensorflow.keras.layers import Input, Dense, Dropout\n",
    "from tensorflow.keras.models import Model"
   ]
  },
  {
   "cell_type": "code",
   "execution_count": null,
   "metadata": {
    "execution": {
     "iopub.execute_input": "2024-11-14T21:18:44.398252Z",
     "iopub.status.busy": "2024-11-14T21:18:44.397801Z",
     "iopub.status.idle": "2024-11-14T21:18:44.588044Z",
     "shell.execute_reply": "2024-11-14T21:18:44.587027Z",
     "shell.execute_reply.started": "2024-11-14T21:18:44.398202Z"
    },
    "trusted": true
   },
   "outputs": [],
   "source": [
    "df = pd.read_csv('/datasets/df_songs.csv')"
   ]
  },
  {
   "cell_type": "markdown",
   "metadata": {},
   "source": [
    "*Mode: True = Major Scale / False = Minor Scale*"
   ]
  },
  {
   "cell_type": "code",
   "execution_count": null,
   "metadata": {
    "execution": {
     "iopub.execute_input": "2024-11-14T21:18:44.589726Z",
     "iopub.status.busy": "2024-11-14T21:18:44.589338Z",
     "iopub.status.idle": "2024-11-14T21:18:44.615776Z",
     "shell.execute_reply": "2024-11-14T21:18:44.614625Z",
     "shell.execute_reply.started": "2024-11-14T21:18:44.589686Z"
    },
    "trusted": true
   },
   "outputs": [],
   "source": [
    "df.head()"
   ]
  },
  {
   "cell_type": "code",
   "execution_count": null,
   "metadata": {
    "execution": {
     "iopub.execute_input": "2024-11-14T21:18:44.618938Z",
     "iopub.status.busy": "2024-11-14T21:18:44.618446Z",
     "iopub.status.idle": "2024-11-14T21:18:44.679033Z",
     "shell.execute_reply": "2024-11-14T21:18:44.677849Z",
     "shell.execute_reply.started": "2024-11-14T21:18:44.618882Z"
    },
    "trusted": true
   },
   "outputs": [],
   "source": [
    "df.describe()"
   ]
  },
  {
   "cell_type": "markdown",
   "metadata": {},
   "source": [
    "**Duda:** ¿podría haber un problema con el escalado de year al introducir nuevos datos?"
   ]
  },
  {
   "cell_type": "markdown",
   "metadata": {},
   "source": [
    "# Training"
   ]
  },
  {
   "cell_type": "code",
   "execution_count": null,
   "metadata": {},
   "outputs": [],
   "source": [
    "# Se decidió descartar 'mode ya que, al ser incluida en el dataset, las predicciones siempre coinciden con el \"mode\" original (Mayor o menor). Pero los oyentes no escuchan exclusivamente música de un modo, sino que consumen ambos modos de forma indistinta.\n",
    "df.drop(columns=['mode'],inplace=True)"
   ]
  },
  {
   "cell_type": "code",
   "execution_count": null,
   "metadata": {},
   "outputs": [],
   "source": [
    "# Selecting relevant audio features\n",
    "features = ['track_popularity', 'danceability', 'energy',\n",
    "       'loudness', 'speechiness', 'acousticness', 'instrumentalness',\n",
    "       'liveness', 'valence', 'tempo', 'duration_ms', 'year']\n",
    "# ¿incluir track popularity?\n",
    "# ¿¿ Eliminación 'acousticness' por alta correlación con 'energy' y 'loudness' ??\n",
    "# Reintroducir feature: mode\n",
    "\n",
    "X = df[features].values"
   ]
  },
  {
   "cell_type": "code",
   "execution_count": null,
   "metadata": {
    "execution": {
     "iopub.execute_input": "2024-11-14T21:18:44.724907Z",
     "iopub.status.busy": "2024-11-14T21:18:44.724442Z",
     "iopub.status.idle": "2024-11-14T21:18:44.755878Z",
     "shell.execute_reply": "2024-11-14T21:18:44.754539Z",
     "shell.execute_reply.started": "2024-11-14T21:18:44.724857Z"
    },
    "trusted": true
   },
   "outputs": [],
   "source": [
    "X = X.astype('float32')"
   ]
  },
  {
   "cell_type": "code",
   "execution_count": null,
   "metadata": {
    "execution": {
     "iopub.execute_input": "2024-11-14T21:18:44.757607Z",
     "iopub.status.busy": "2024-11-14T21:18:44.757241Z",
     "iopub.status.idle": "2024-11-14T21:18:44.769073Z",
     "shell.execute_reply": "2024-11-14T21:18:44.768056Z",
     "shell.execute_reply.started": "2024-11-14T21:18:44.757568Z"
    },
    "trusted": true
   },
   "outputs": [],
   "source": [
    "# Splitting the data\n",
    "X_train, X_test = train_test_split(X, test_size=0.3, random_state=42)"
   ]
  },
  {
   "cell_type": "code",
   "execution_count": null,
   "metadata": {
    "execution": {
     "iopub.execute_input": "2024-11-14T21:18:44.773250Z",
     "iopub.status.busy": "2024-11-14T21:18:44.772744Z",
     "iopub.status.idle": "2024-11-14T21:18:44.836457Z",
     "shell.execute_reply": "2024-11-14T21:18:44.835541Z",
     "shell.execute_reply.started": "2024-11-14T21:18:44.773209Z"
    },
    "trusted": true
   },
   "outputs": [],
   "source": [
    "model = Sequential([\n",
    "    Input(shape=(len(features),)),\n",
    "    Dense(128, activation='relu'),\n",
    "    Dropout(0.3),\n",
    "    Dense(64, activation='relu'),\n",
    "    Dropout(0.3),\n",
    "    Dense(32, activation='relu', name=\"embedding_layer\"), # Embedding layer\n",
    "    Dense(16, activation='relu'),\n",
    "    Dense(len(features), activation='linear') # Output layer for reconstruction\n",
    "])\n",
    "\n",
    "model.compile(optimizer=Adam(learning_rate=0.001), loss='mse')"
   ]
  },
  {
   "cell_type": "code",
   "execution_count": null,
   "metadata": {},
   "outputs": [],
   "source": [
    "# Entrenamiento del modelo y guardar el historial\n",
    "history = model.fit(X_train, X_train, epochs=50, batch_size=32, validation_data=(X_test, X_test))"
   ]
  },
  {
   "cell_type": "code",
   "execution_count": null,
   "metadata": {},
   "outputs": [],
   "source": [
    "# Graficar la pérdida de entrenamiento y validación\n",
    "plt.plot(history.history['loss'], label='Training loss')\n",
    "plt.plot(history.history['val_loss'], label='Validation loss')\n",
    "plt.xlabel('Epochs')\n",
    "plt.ylabel('Loss')\n",
    "plt.legend()\n",
    "plt.title('Curva de Entrenamiento y Validación')\n",
    "plt.show()"
   ]
  },
  {
   "cell_type": "code",
   "execution_count": null,
   "metadata": {},
   "outputs": [],
   "source": [
    "# Define model with the functional API\n",
    "input_layer = Input(shape=(len(features),))\n",
    "x = Dense(128, activation='relu')(input_layer)\n",
    "x = Dropout(0.3)(x)\n",
    "embedding_layer = Dense(64, activation='relu', name=\"embedding_layer\")(x)  # Named embedding layer\n",
    "x = Dropout(0.3)(embedding_layer)\n",
    "x = Dense(32, activation='relu')(x)\n",
    "output_layer = Dense(len(features), activation='linear')(x)\n",
    "\n",
    "# Compile the model\n",
    "model = Model(inputs=input_layer, outputs=output_layer)\n",
    "model.compile(optimizer=Adam(learning_rate=0.001), loss='mse')\n",
    "\n",
    "# Initialize the model by running a sample input through it\n",
    "sample_input = np.random.rand(1, len(features))  # Sample input\n",
    "_ = model.predict(sample_input)  # Initialize the model\n",
    "\n",
    "# Extract embeddings using the embedding layer directly\n",
    "embedding_model = Model(inputs=model.input, outputs=model.get_layer(\"embedding_layer\").output)\n",
    "song_embeddings = embedding_model.predict(X)\n",
    "\n",
    "print(\"Embeddings shape:\", song_embeddings.shape)\n"
   ]
  },
  {
   "cell_type": "code",
   "execution_count": null,
   "metadata": {
    "execution": {
     "iopub.execute_input": "2024-11-14T21:19:59.019294Z",
     "iopub.status.busy": "2024-11-14T21:19:59.018943Z",
     "iopub.status.idle": "2024-11-14T21:19:59.033635Z",
     "shell.execute_reply": "2024-11-14T21:19:59.032720Z",
     "shell.execute_reply.started": "2024-11-14T21:19:59.019258Z"
    },
    "trusted": true
   },
   "outputs": [],
   "source": [
    "# Exportación del modelo\n",
    "embedding_model.save(\"/kaggle/working/songs_embeddings.h5\")"
   ]
  },
  {
   "cell_type": "markdown",
   "metadata": {},
   "source": [
    "### Búsqueda por género"
   ]
  },
  {
   "cell_type": "code",
   "execution_count": null,
   "metadata": {},
   "outputs": [],
   "source": [
    "# Índices para facilitar la búsqueda por género\n",
    "genres = ['pop', # 0\n",
    "          'rock', # 1\n",
    "          'rap', # 2\n",
    "          'r&b', # 3\n",
    "          'edm', # 4\n",
    "          'latin'] # 5\n",
    "\n",
    "df[df['playlist_genre'] == genres[1]]  # Selecciona sólo un género\n",
    "#df[df['playlist_genre'] != genres[1]]  # Todos los demás géneros"
   ]
  },
  {
   "cell_type": "markdown",
   "metadata": {},
   "source": [
    "### Búsqueda por artista/canción"
   ]
  },
  {
   "cell_type": "code",
   "execution_count": null,
   "metadata": {
    "execution": {
     "iopub.execute_input": "2024-11-14T21:19:59.075944Z",
     "iopub.status.busy": "2024-11-14T21:19:59.075556Z",
     "iopub.status.idle": "2024-11-14T21:19:59.114257Z",
     "shell.execute_reply": "2024-11-14T21:19:59.113173Z",
     "shell.execute_reply.started": "2024-11-14T21:19:59.075904Z"
    },
    "trusted": true
   },
   "outputs": [],
   "source": [
    "# Búsqueda por artista/nombre\n",
    "df.loc[df['track_artist'] == 'Daft Punk']\n",
    "#df.loc[df['track_name'] == 'Yesterday']"
   ]
  },
  {
   "cell_type": "markdown",
   "metadata": {},
   "source": [
    "### Búsqueda por ID"
   ]
  },
  {
   "cell_type": "markdown",
   "metadata": {},
   "source": [
    "Ejemplos de testing:\n",
    "- 3gu0fRSgFuc4FmrtIv0DnC (Reggaeton)\n",
    "- 0r7CVbZTWZgbTCYdfa2P31 (pop)\n",
    "- 5yY9lUy8nbvjM1Uyo1Uqoc (rap)"
   ]
  },
  {
   "cell_type": "code",
   "execution_count": null,
   "metadata": {
    "execution": {
     "iopub.execute_input": "2024-11-14T21:19:59.115980Z",
     "iopub.status.busy": "2024-11-14T21:19:59.115616Z",
     "iopub.status.idle": "2024-11-14T21:19:59.140093Z",
     "shell.execute_reply": "2024-11-14T21:19:59.138836Z",
     "shell.execute_reply.started": "2024-11-14T21:19:59.115944Z"
    },
    "trusted": true
   },
   "outputs": [],
   "source": [
    "# Búsqueda por ID\n",
    "id_ = \"5CMjjywI0eZMixPeqNd75R\"\n",
    "name = df.loc[df['track_id'] == id_]\n",
    "song_index = df[df['track_id'] == id_].index.item()\n",
    "print(name.iloc[0]['track_name'], 'by', name.iloc[0]['track_artist'], 'on album', name.iloc[0]['track_album_name'])\n",
    "#print(song_index)\n",
    "print()\n",
    "df.iloc[song_index]"
   ]
  },
  {
   "cell_type": "code",
   "execution_count": null,
   "metadata": {
    "execution": {
     "iopub.execute_input": "2024-11-14T21:19:59.142107Z",
     "iopub.status.busy": "2024-11-14T21:19:59.141640Z",
     "iopub.status.idle": "2024-11-14T21:19:59.149972Z",
     "shell.execute_reply": "2024-11-14T21:19:59.148859Z",
     "shell.execute_reply.started": "2024-11-14T21:19:59.142054Z"
    },
    "trusted": true
   },
   "outputs": [],
   "source": [
    "# Búsqueda por index\n",
    "#song_index = 12616  # For example, the first song in the dataset\n",
    "\"\"\"\n",
    "name = df.loc[df['track_id'] == df.iloc[song_index]['track_id']]\n",
    "print(name.iloc[0]['track_name'], 'by', name.iloc[0]['track_artist'], 'on album', name.iloc[0]['track_album_name'])\n",
    "print()\n",
    "\n",
    "df.iloc[song_index]\n",
    "\"\"\""
   ]
  },
  {
   "cell_type": "markdown",
   "metadata": {},
   "source": [
    "## Predicción"
   ]
  },
  {
   "cell_type": "code",
   "execution_count": null,
   "metadata": {},
   "outputs": [],
   "source": [
    "num_pred = 5 # Modificar a gusto para obtener más predicciones\n",
    "similarities = cosine_similarity([song_embeddings[song_index]], song_embeddings)[0]\n",
    "\n",
    "# Get top n most similar songs (excluding itself)\n",
    "similar_indices = np.argsort(similarities)[-(num_pred+1):-1][::-1]\n",
    "similar_songs = df.iloc[similar_indices]\n",
    "\n",
    "for i, song in enumerate(similar_songs.index):\n",
    "    print(f\"\"\"{i+1}º) \"{similar_songs.loc[song, 'track_name']}\" by {similar_songs.loc[song, 'track_artist']} on album \"{similar_songs.loc[song, 'track_album_name']}\" ({similar_songs.loc[song, 'playlist_genre'].title()})\\n\"\"\")"
   ]
  },
  {
   "cell_type": "code",
   "execution_count": null,
   "metadata": {
    "execution": {
     "iopub.execute_input": "2024-11-14T21:23:08.628443Z",
     "iopub.status.busy": "2024-11-14T21:23:08.627654Z",
     "iopub.status.idle": "2024-11-14T21:23:08.653856Z",
     "shell.execute_reply": "2024-11-14T21:23:08.652572Z",
     "shell.execute_reply.started": "2024-11-14T21:23:08.628398Z"
    },
    "trusted": true
   },
   "outputs": [],
   "source": [
    "similar_songs"
   ]
  },
  {
   "cell_type": "markdown",
   "metadata": {},
   "source": [
    "## Análisis de resultados"
   ]
  },
  {
   "cell_type": "code",
   "execution_count": null,
   "metadata": {},
   "outputs": [],
   "source": [
    "# 0. Canción original (user input)\n",
    "song = df.iloc[song_index].copy()\n",
    "song = song.drop(index=['track_id','track_name','track_artist','playlist_genre',\n",
    "                       'track_album_id','track_album_name'])\n",
    "song = song.astype(float)\n",
    "\n",
    "# 0. Calcular la media de las características en el dataframe completo\n",
    "df_mean = df[features].mean()\n",
    "\n",
    "# 1. Filtrar las canciones similares usando los índices y calcular la media\n",
    "similar_mean = similar_songs[features].mean()\n",
    "\n",
    "# 2. Crear un DataFrame que contenga ambas medias para fácil comparación\n",
    "comparison_df = pd.DataFrame({'Original song': song, 'Similar songs': similar_mean})\n",
    "\n",
    "# 3. Calcular el RMSE entre la canción original y la media de las canciones similares\n",
    "comparison_df['Similarity (RMSE)'] = np.sqrt((comparison_df['Original song'] - comparison_df['Similar songs']) ** 2)\n",
    "comparison_df['Other songs'] = df_mean\n",
    "\n",
    "# 4. Calcular el RMSE entre la media de canciones similares y la media general\n",
    "comparison_df['Difference (RMSE)'] = np.sqrt((comparison_df['Similar songs'] - comparison_df['Other songs']) ** 2)\n",
    "\n",
    "# 5. Compara el RMSE de la predicción contra la media del dataset (Normalizado)\n",
    "comparison_df['Eficacia (%)'] =  comparison_df['Difference (RMSE)'] / (comparison_df['Similarity (RMSE)'] + comparison_df['Difference (RMSE)'])\n",
    "# Valores cercanos a 1 indican una predicción excelente\n",
    "# Valores cercanos a 0 indican una predicción pobre (RMSE similar entre la predicción y la media)"
   ]
  },
  {
   "cell_type": "code",
   "execution_count": null,
   "metadata": {},
   "outputs": [],
   "source": [
    "comparison_df"
   ]
  },
  {
   "cell_type": "markdown",
   "metadata": {},
   "source": [
    "**NOTAS:**\n",
    "- Similarity/Diference: representan la proximidad de los datos a través del RMSE (0 es \"similar\" | 1 es \"diferente\")\n",
    "- Eficacia: 1 indica una predicción excelente. 0 indica una predicción pobre."
   ]
  },
  {
   "cell_type": "code",
   "execution_count": null,
   "metadata": {},
   "outputs": [],
   "source": [
    "# Creating an explicit axis for the colorbar to resolve the deprecation warning\n",
    "import matplotlib.pyplot as plt\n",
    "import matplotlib.colors as mcolors\n",
    "\n",
    "# Define the color map from blue (near 0) to red (near 1) for Eficacia\n",
    "norm = plt.Normalize(0, 1)\n",
    "sm = plt.cm.ScalarMappable(cmap=\"coolwarm\", norm=norm)\n",
    "sm.set_array([])  # Setting an empty array to avoid warnings\n",
    "\n",
    "# Create the figure and plot each bar with color based on Eficacia value\n",
    "fig, ax = plt.subplots(figsize=(15, 6))\n",
    "bars = ax.bar(comparison_df.index, comparison_df['Eficacia (%)'], color=sm.to_rgba(comparison_df['Eficacia (%)']))\n",
    "\n",
    "# Customize the x-axis labels to be angled at 45 degrees and smaller font size\n",
    "ax.set_xticks(comparison_df.index)\n",
    "ax.set_xticklabels(features, rotation=45, ha='right', fontsize=10)\n",
    "\n",
    "# Labels and title\n",
    "ax.set_xlabel(\"Features\")\n",
    "ax.set_ylabel(\"Eficacia (Normalized between 0 and 1)\")\n",
    "ax.set_title(\"Normalized Eficacia for Each Feature\")\n",
    "\n",
    "# Add color bar with a specified axis\n",
    "cbar = fig.colorbar(sm, ax=ax, orientation='vertical', pad=0.02)\n",
    "cbar.set_label('Eficacia scale (0: Blue, 1: Red)')\n",
    "\n",
    "plt.show()\n"
   ]
  },
  {
   "cell_type": "code",
   "execution_count": null,
   "metadata": {},
   "outputs": [],
   "source": [
    "threshold = 0.6\n",
    "indices = comparison_df[comparison_df['Eficacia (%)'] > threshold].index\n",
    "top_features = comparison_df.loc[indices].sort_values(by=\"Eficacia (%)\", ascending=False)\n",
    "print(\"Eficacia de los features representativos:\")\n",
    "for i, (feature, row) in enumerate(top_features['Eficacia (%)'].items(), start=1):\n",
    "    print(f\"{i}º) {feature}: {row*100:.1f}%\")\n",
    "    \n",
    "#print(top_features['Eficacia'])"
   ]
  },
  {
   "cell_type": "markdown",
   "metadata": {},
   "source": [
    "**Ideas:**\n",
    "- Se puede ponderar el peso de ciertas features en la búsqueda (por ejemplo el año)\n",
    "- Se puede incluir un feature que indique el idioma de la letra."
   ]
  },
  {
   "cell_type": "markdown",
   "metadata": {},
   "source": [
    "**Observaciones:**\n",
    "- Es probable que mode no sea de utilidad. Al ser incluida en el dataset, la predicción siempre coincide con el \"mode\" original, pero los oyentes no escuchan exclusivamente música de un modo.\n",
    "- Pareciera que la búsqueda de similitud tiende a evitar outliers."
   ]
  }
 ],
 "metadata": {
  "kaggle": {
   "accelerator": "nvidiaTeslaT4",
   "dataSources": [
    {
     "datasetId": 6088657,
     "sourceId": 9909562,
     "sourceType": "datasetVersion"
    }
   ],
   "dockerImageVersionId": 30787,
   "isGpuEnabled": true,
   "isInternetEnabled": true,
   "language": "python",
   "sourceType": "notebook"
  },
  "kernelspec": {
   "display_name": "Python 3",
   "language": "python",
   "name": "python3"
  },
  "language_info": {
   "codemirror_mode": {
    "name": "ipython",
    "version": 3
   },
   "file_extension": ".py",
   "mimetype": "text/x-python",
   "name": "python",
   "nbconvert_exporter": "python",
   "pygments_lexer": "ipython3",
   "version": "3.10.14"
  }
 },
 "nbformat": 4,
 "nbformat_minor": 4
}
