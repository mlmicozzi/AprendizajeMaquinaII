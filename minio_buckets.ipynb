{
 "cells": [
  {
   "cell_type": "markdown",
   "id": "5ad2d21a",
   "metadata": {},
   "source": [
    "Primero crrer en el terminal:\n",
    "mkdir -p ~/minio/data\n",
    "docker run \\\n",
    "   -p 9000:9000 \\\n",
    "   -p 9001:9001 \\\n",
    "   --name minio1 \\\n",
    "   -v D:\\minio\\data:/data \\\n",
    "   -e \"MINIO_ROOT_USER=ROOTUSER\" \\\n",
    "   -e \"MINIO_ROOT_PASSWORD=CHANGEME123\" \\\n",
    "   quay.io/minio/minio server /data --console-address \":9001\"\n",
    "   \n",
    "\n",
    "Para MacOs/Linux:\n",
    "\n",
    "mkdir -p ~/minio/data\n",
    "docker run \\\n",
    "   -p 9000:9000 \\\n",
    "   -p 9001:9001 \\\n",
    "   --name minio \\\n",
    "   -v ~/minio/data:/data \\\n",
    "   -e \"MINIO_ROOT_USER=ROOTNAME\" \\\n",
    "   -e \"MINIO_ROOT_PASSWORD=CHANGEME123\" \\\n",
    "   quay.io/minio/minio server /data --console-address \":9001\""
   ]
  },
  {
   "cell_type": "markdown",
   "id": "fbc84f20",
   "metadata": {},
   "source": [
    "GUI:\n",
    "http://localhost:9001/login\n",
    "\n",
    "Pasos:\n",
    "1. Log in to console\n",
    "2. Create a bucket\n",
    "3. Create a Client User"
   ]
  },
  {
   "cell_type": "code",
   "execution_count": 1,
   "id": "1cca2233-b839-4f39-a627-f88a56222d56",
   "metadata": {},
   "outputs": [
    {
     "name": "stdout",
     "output_type": "stream",
     "text": [
      "Requirement already satisfied: minio in /opt/anaconda3/lib/python3.11/site-packages (7.2.10)\n",
      "Requirement already satisfied: certifi in /opt/anaconda3/lib/python3.11/site-packages (from minio) (2024.8.30)\n",
      "Requirement already satisfied: urllib3 in /opt/anaconda3/lib/python3.11/site-packages (from minio) (2.0.7)\n",
      "Requirement already satisfied: argon2-cffi in /opt/anaconda3/lib/python3.11/site-packages (from minio) (21.3.0)\n",
      "Requirement already satisfied: pycryptodome in /opt/anaconda3/lib/python3.11/site-packages (from minio) (3.21.0)\n",
      "Requirement already satisfied: typing-extensions in /opt/anaconda3/lib/python3.11/site-packages (from minio) (4.9.0)\n",
      "Requirement already satisfied: argon2-cffi-bindings in /opt/anaconda3/lib/python3.11/site-packages (from argon2-cffi->minio) (21.2.0)\n",
      "Requirement already satisfied: cffi>=1.0.1 in /opt/anaconda3/lib/python3.11/site-packages (from argon2-cffi-bindings->argon2-cffi->minio) (1.16.0)\n",
      "Requirement already satisfied: pycparser in /opt/anaconda3/lib/python3.11/site-packages (from cffi>=1.0.1->argon2-cffi-bindings->argon2-cffi->minio) (2.21)\n"
     ]
    }
   ],
   "source": [
    "#!pip install minio"
   ]
  },
  {
   "cell_type": "markdown",
   "id": "3237a74e-e75b-4df1-a01a-aa80c685e522",
   "metadata": {},
   "source": [
    "# Minio buckets"
   ]
  },
  {
   "cell_type": "code",
   "execution_count": 43,
   "id": "b0cc0971-565f-456a-9de4-68ef4a8875c4",
   "metadata": {},
   "outputs": [],
   "source": [
    "from minio import Minio\n",
    "from minio.error import S3Error"
   ]
  },
  {
   "cell_type": "markdown",
   "id": "20cbaf3e-7f3e-41c7-a2ad-5da3ddfc497c",
   "metadata": {
    "jp-MarkdownHeadingCollapsed": true
   },
   "source": [
    "## Conexión"
   ]
  },
  {
   "cell_type": "code",
   "execution_count": 3,
   "id": "680c0c16-59bd-4a81-a74e-3226310ecee9",
   "metadata": {},
   "outputs": [],
   "source": [
    "# Minio: ROOTNAME / CHANGEME123\n",
    "# User \"test_user\": test_user / test_user"
   ]
  },
  {
   "cell_type": "code",
   "execution_count": 2,
   "id": "c7b4eea0-925c-41ad-b7cb-bc391dcd16ca",
   "metadata": {},
   "outputs": [
    {
     "data": {
      "text/plain": [
       "'\\nclient = Minio(endpoint=\"localhost:9000\",\\n               access_key=\"ROOTNAME\",\\n               secret_key=\"CHANGEME123\",\\n               secure=False)\\n'"
      ]
     },
     "execution_count": 2,
     "metadata": {},
     "output_type": "execute_result"
    }
   ],
   "source": [
    "# Crea un cliente\n",
    "client = Minio(\"localhost:9000\",\n",
    "               \"ROOTNAME\",\n",
    "               \"CHANGEME123\",\n",
    "               secure=False)\n",
    "\n",
    "\"\"\"\n",
    "client = Minio(endpoint=\"localhost:9000\",\n",
    "               access_key=\"ROOTNAME\",\n",
    "               secret_key=\"CHANGEME123\",\n",
    "               secure=False)\n",
    "\"\"\""
   ]
  },
  {
   "cell_type": "markdown",
   "id": "18814d95-ce1e-4d3d-bc71-d689c076ec34",
   "metadata": {},
   "source": [
    "## Revisión"
   ]
  },
  {
   "cell_type": "code",
   "execution_count": 11,
   "id": "a63ef59f-0a54-4535-bb31-1c02f737a55a",
   "metadata": {},
   "outputs": [],
   "source": [
    "bucket_name = \"test\"\n",
    "original_object = \"img.png\"\n",
    "new_object = \"img1.png\""
   ]
  },
  {
   "cell_type": "markdown",
   "id": "06e10cae-88f5-42f1-aa26-09e047172dfe",
   "metadata": {},
   "source": [
    "### Buckets"
   ]
  },
  {
   "cell_type": "code",
   "execution_count": 66,
   "id": "5206c8c6-fe76-403e-92ae-4a5b99772824",
   "metadata": {},
   "outputs": [
    {
     "name": "stdout",
     "output_type": "stream",
     "text": [
      "mybucket 2024-11-17 00:53:36.947000+00:00\n",
      "test 2024-11-16 11:19:57.863000+00:00\n"
     ]
    }
   ],
   "source": [
    "# Lista de buckets\n",
    "buckets = client.list_buckets()\n",
    "for bucket in buckets:\n",
    "    print(bucket.name, bucket.creation_date)"
   ]
  },
  {
   "cell_type": "markdown",
   "id": "600432f1-8ac2-4a74-8164-a4ee1a49643b",
   "metadata": {
    "jp-MarkdownHeadingCollapsed": true
   },
   "source": [
    "### Objects"
   ]
  },
  {
   "cell_type": "code",
   "execution_count": 65,
   "id": "15266698-2fc2-4ef4-9e3d-17876697c5e3",
   "metadata": {},
   "outputs": [
    {
     "name": "stdout",
     "output_type": "stream",
     "text": [
      "<minio.datatypes.Object object at 0x13eb99b50>\n",
      "<minio.datatypes.Object object at 0x13eb03390>\n"
     ]
    }
   ],
   "source": [
    "# List objects information.\n",
    "objects = client.list_objects(bucket_name, recursive = True)\n",
    "for obj in objects:\n",
    "    print(obj)"
   ]
  },
  {
   "cell_type": "code",
   "execution_count": 67,
   "id": "ace960ff-2714-4b19-8836-164e21c072a8",
   "metadata": {},
   "outputs": [
    {
     "name": "stdout",
     "output_type": "stream",
     "text": [
      "<minio.datatypes.Object object at 0x13ed0ac50>\n",
      "<minio.datatypes.Object object at 0x13eb4a810>\n",
      "<minio.datatypes.Object object at 0x13eb9bb90>\n"
     ]
    }
   ],
   "source": [
    "# List objects information whose names starts with \"my/prefix/\".\n",
    "objects = client.list_objects(bucket_name, prefix=\"my/prefix/\")\n",
    "for obj in objects:\n",
    "    print(obj)\n",
    "\n",
    "# List objects information recursively.\n",
    "objects = client.list_objects(bucket_name, recursive=True)\n",
    "for obj in objects:\n",
    "    print(obj)\n",
    "\n",
    "# List objects information recursively whose names starts with\n",
    "# \"my/prefix/\".\n",
    "objects = client.list_objects(\n",
    "    bucket_name, prefix=\"my/prefix/\", recursive=True,\n",
    ")\n",
    "for obj in objects:\n",
    "    print(obj)\n",
    "\n",
    "# List objects information recursively after object name\n",
    "# \"my/prefix/world/1\".\n",
    "objects = client.list_objects(\n",
    "    bucket_name, recursive=True, start_after=\"my/prefix/world/1\",\n",
    ")\n",
    "for obj in objects:\n",
    "    print(obj)"
   ]
  },
  {
   "cell_type": "code",
   "execution_count": 68,
   "id": "205fa771-c5a4-4e3a-8400-e2a9795b1aa8",
   "metadata": {},
   "outputs": [
    {
     "name": "stdout",
     "output_type": "stream",
     "text": [
      "1. Bucket 'mybucket':\n",
      "<generator object Minio._list_objects at 0x13d08a430>\n",
      "2. Bucket 'test':\n",
      "<generator object Minio._list_objects at 0x13d08bb30>\n"
     ]
    }
   ],
   "source": [
    "# Lista objetos en el bucket\n",
    "i, j = 0, 0\n",
    "for bucket in buckets:\n",
    "    i+=1\n",
    "    print(f\"{i}. Bucket '{bucket.name}':\")\n",
    "    bucket_name = bucket\n",
    "    # Lista objetos en el bucket\n",
    "    objects = client.list_objects(bucket.name)\n",
    "    print(objects)\n",
    "    if 'Contents' in objects:\n",
    "        for obj in objects['Contents']:\n",
    "            j+=1\n",
    "            print(f\"  {j}. Object Key: {obj['Key']}, Size: {obj['Size']} bytes, Last Modified: {obj['LastModified']}\")\n"
   ]
  },
  {
   "cell_type": "code",
   "execution_count": 72,
   "id": "f4824aa9-7f9f-41e2-8c43-6f5de03ad37e",
   "metadata": {},
   "outputs": [
    {
     "name": "stdout",
     "output_type": "stream",
     "text": [
      "<minio.datatypes.Object object at 0x13ed61d10>\n"
     ]
    }
   ],
   "source": [
    "# Información de un objeto específico\n",
    "bucket_name = \"test\"\n",
    "original_object = \"img.png\"\n",
    "\n",
    "result = client.stat_object(bucket_name, original_object)\n",
    "print(result)"
   ]
  },
  {
   "cell_type": "markdown",
   "id": "126fad26-e369-4590-99de-2686c9108e40",
   "metadata": {},
   "source": [
    "# Métodos para Procesamiento"
   ]
  },
  {
   "cell_type": "markdown",
   "id": "f79b0bba-38c9-443d-b7e9-79634644b44d",
   "metadata": {},
   "source": [
    "https://github.com/minio/minio-py/tree/master/examples"
   ]
  },
  {
   "cell_type": "code",
   "execution_count": 73,
   "id": "02876a75-def3-44b1-9800-79dd154c128a",
   "metadata": {},
   "outputs": [],
   "source": [
    "bucket_name = \"test\"\n",
    "original_object = \"img.png\"\n",
    "new_object = \"img1.png\""
   ]
  },
  {
   "cell_type": "markdown",
   "id": "5b8af759-318e-4426-8162-a73c8f04841f",
   "metadata": {
    "jp-MarkdownHeadingCollapsed": true
   },
   "source": [
    "## Crear/Remover buckets"
   ]
  },
  {
   "cell_type": "code",
   "execution_count": 47,
   "id": "dda59c72-ae6a-43ab-a85d-acaefe377bf1",
   "metadata": {},
   "outputs": [],
   "source": [
    "# Crear bucket\n",
    "client.make_bucket(bucket_name)"
   ]
  },
  {
   "cell_type": "code",
   "execution_count": 48,
   "id": "cfa161da-45d8-4544-8661-93933b8fd7b2",
   "metadata": {},
   "outputs": [],
   "source": [
    "# Remover bucket\n",
    "client.remove_bucket(bucket_name)"
   ]
  },
  {
   "cell_type": "markdown",
   "id": "d8ad7377-24f2-4650-bdb3-158bc6d3ee62",
   "metadata": {
    "jp-MarkdownHeadingCollapsed": true
   },
   "source": [
    "## Carga/Descarga de archivos"
   ]
  },
  {
   "cell_type": "code",
   "execution_count": 76,
   "id": "5052a838-5ac7-4fb3-ade8-9317148bf89e",
   "metadata": {},
   "outputs": [
    {
     "name": "stdout",
     "output_type": "stream",
     "text": [
      "Bucket 'mybucket' ya existe.\n",
      "Archivo 'file.txt' subido como 'uploaded_file.txt'.\n"
     ]
    }
   ],
   "source": [
    "# Subida de archivos\n",
    "# Origen:\n",
    "local_file = \"file.txt\"  # Ruta del archivo local\n",
    "# Destino:\n",
    "bucket_name = \"mybucket\"\n",
    "object_name = \"uploaded_file.txt\"     # Nombre del archivo en MinIO\n",
    "\n",
    "# Verificar si el bucket existe, y si no, crearlo\n",
    "if not client.bucket_exists(bucket_name):\n",
    "    client.make_bucket(bucket_name)\n",
    "    print(f\"Bucket '{bucket_name}' creado.\")\n",
    "else:\n",
    "    print(f\"Bucket '{bucket_name}' ya existe.\")\n",
    "\n",
    "try:\n",
    "    client.fput_object(bucket_name, object_name, local_file)\n",
    "    print(f\"Archivo '{local_file}' subido como '{object_name}'.\")\n",
    "except S3Error as e:\n",
    "    print(f\"Error al subir archivo: {e}\")"
   ]
  },
  {
   "cell_type": "code",
   "execution_count": 32,
   "id": "cc297c2b-7bff-4812-bfe1-69660c855b34",
   "metadata": {},
   "outputs": [
    {
     "name": "stdout",
     "output_type": "stream",
     "text": [
      "Archivo 'uploaded_file.txt' descargado como 'downloaded_file.txt'.\n"
     ]
    }
   ],
   "source": [
    "# Descargar un archivo desde el bucket\n",
    "# Origen:\n",
    "bucket_name = \"mybucket\"\n",
    "object_name = \"uploaded_file.txt\"     # Nombre del archivo en MinIO\n",
    "# Destino:\n",
    "downloaded_file = \"downloaded_file.txt\"  # Ruta para guardar el archivo descargado\n",
    "\n",
    "try:\n",
    "    client.fget_object(bucket_name, object_name, downloaded_file)\n",
    "    print(f\"Archivo '{object_name}' descargado como '{downloaded_file}'.\")\n",
    "except S3Error as e:\n",
    "    print(f\"Error al descargar archivo: {e}\")"
   ]
  },
  {
   "cell_type": "markdown",
   "id": "ee9fc402-0d6d-4205-a0ec-209e937fd6d6",
   "metadata": {},
   "source": [
    "## Procesamiento de archivos"
   ]
  },
  {
   "cell_type": "code",
   "execution_count": 93,
   "id": "4d7fd625-b817-4c2d-a68a-bd4de27a93c0",
   "metadata": {},
   "outputs": [
    {
     "name": "stdout",
     "output_type": "stream",
     "text": [
      "Archivo 'prefix/copied_file.txt' en 'test' copiado a 'mybucket' como 'uploaded_file.txt'.\n",
      "Archivo 'prefix/copied_file.txt' en 'test' copiado como 'uploaded_file.txt' en 'mybucket'.\n"
     ]
    }
   ],
   "source": [
    "# Copiar objeto único\n",
    "from minio.commonconfig import REPLACE, CopySource\n",
    "\n",
    "# Origen:\n",
    "source_bucket_name = \"mybucket\"\n",
    "source_object_name = \"uploaded_file.txt\"     # Nombre del archivo en MinIO\n",
    "# Destino:\n",
    "bucket_name = \"test\"\n",
    "object_name = \"prefix/copied_file.txt\"     # Nombre del archivo en MinIO\n",
    "\n",
    "try:\n",
    "    # Crea la copia en la nueva ubicación\n",
    "    result = client.copy_object(bucket_name, object_name,\n",
    "                            CopySource(source_bucket_name, source_object_name)\n",
    "                            )\n",
    "    print(f\"Archivo '{source_object_name}' en '{source_bucket_name}' copiado a '{bucket_name}' como '{object_name}'.\")\n",
    "    \n",
    "    print(f\"Archivo '{source_object_name}' en '{source_bucket_name}' copiado como '{object_name}' en '{bucket_name}'.\")\n",
    "except S3Error as e:\n",
    "    print(f\"Error al copiar archivo: {e}\")"
   ]
  },
  {
   "cell_type": "markdown",
   "id": "7c804a5f-3342-4370-9f06-0e7aa0ddcb9b",
   "metadata": {},
   "source": [
    "**CUIDADO:** Por algún motivo no está funcionando para copiar hacia un bucket diferente."
   ]
  },
  {
   "cell_type": "code",
   "execution_count": 80,
   "id": "07616fe9-4793-4c83-a886-a7c6f7d8aa50",
   "metadata": {},
   "outputs": [
    {
     "name": "stdout",
     "output_type": "stream",
     "text": [
      "Se elminan el archivo 'copied_file.txt' de 'mybucket'.\n"
     ]
    }
   ],
   "source": [
    "# Borrar objeto único\n",
    "bucket_name = \"mybucket\"\n",
    "object_name = \"copied_file.txt\"     # Nombre del archivo en MinIO\n",
    "\n",
    "result = client.remove_object(bucket_name, object_name)\n",
    "print(f\"Se elimina el archivo '{object_name}' de '{bucket_name}'.\")\n",
    "\n",
    "# Si el objeto to existe, no levanta ningún error"
   ]
  },
  {
   "cell_type": "code",
   "execution_count": 86,
   "id": "bff10466-f5e4-447b-9419-d9ae5f84ee76",
   "metadata": {},
   "outputs": [
    {
     "name": "stdout",
     "output_type": "stream",
     "text": [
      "Se eliminan todos los archivos con prefijo 'prefix/' del 'mybucket'.\n"
     ]
    }
   ],
   "source": [
    "# Borrar todos los objetos de un prefix (carpeta)\n",
    "from minio.deleteobjects import DeleteObject\n",
    "bucket_name = \"mybucket\"\n",
    "prefix = \"prefix/\"\n",
    "\n",
    "# Remove a prefix recursively.\n",
    "delete_object_list = map(\n",
    "    lambda x: DeleteObject(x.object_name),\n",
    "    client.list_objects(bucket_name, prefix, recursive=True),\n",
    ")\n",
    "errors = client.remove_objects(bucket_name, delete_object_list)\n",
    "print(f\"Se eliminan todos los archivos con prefijo '{prefix}' del '{bucket_name}'.\")\n",
    "\n",
    "for error in errors:\n",
    "    print(\"error occurred when deleting object\", error)"
   ]
  },
  {
   "cell_type": "code",
   "execution_count": 92,
   "id": "60182798-233d-4b4a-8eac-08e44066af6b",
   "metadata": {},
   "outputs": [
    {
     "name": "stdout",
     "output_type": "stream",
     "text": [
      "Archivo 'uploaded_file.txt' en 'mybucket' copiado a 'test' como 'prefix/copied_file.txt'.\n",
      "Se elimina el archivo 'uploaded_file.txt' de 'mybucket'.\n"
     ]
    }
   ],
   "source": [
    "# Mover objeto único\n",
    "from minio.commonconfig import CopySource\n",
    "\n",
    "# Origen:\n",
    "source_bucket_name = \"mybucket\"\n",
    "source_object_name = \"uploaded_file.txt\"     # Nombre del archivo en MinIO\n",
    "# Destino:\n",
    "bucket_name = \"test\"\n",
    "object_name = \"prefix/copied_file.txt\"     # Nombre del archivo en MinIO\n",
    "\n",
    "try:\n",
    "    # Crea la copia en la nueva ubicación\n",
    "    result = client.copy_object(bucket_name, object_name,\n",
    "                            CopySource(source_bucket_name, source_object_name)\n",
    "                            )\n",
    "    print(f\"Archivo '{source_object_name}' en '{source_bucket_name}' copiado a '{bucket_name}' como '{object_name}'.\")\n",
    "    \n",
    "    # Borrar objeto original\n",
    "    result = client.remove_object(source_bucket_name, source_object_name)\n",
    "    print(f\"Se elimina el archivo '{source_object_name}' de '{source_bucket_name}'.\")\n",
    "\n",
    "except S3Error as e:\n",
    "    print(f\"Error al copiar archivo: {e}\")"
   ]
  },
  {
   "cell_type": "code",
   "execution_count": 39,
   "id": "fbcd487b-5a86-490c-80c9-7a2e70e3dde9",
   "metadata": {},
   "outputs": [],
   "source": []
  },
  {
   "cell_type": "markdown",
   "id": "8d62c0fb-4f44-4c8c-b9c9-4513a86ff91e",
   "metadata": {
    "jp-MarkdownHeadingCollapsed": true
   },
   "source": [
    "## PUT/GET objects (API)"
   ]
  },
  {
   "cell_type": "code",
   "execution_count": 57,
   "id": "9ca8c23f-42a1-4047-9819-4fcc5b9309b5",
   "metadata": {},
   "outputs": [
    {
     "name": "stdout",
     "output_type": "stream",
     "text": [
      "created my-object object; etag: 5d41402abc4b2a76b9719d911017c592, version-id: None\n"
     ]
    }
   ],
   "source": [
    "# Upload data\n",
    "import io\n",
    "bucket_name = \"mybucket\"\n",
    "object_name = \"my-object\"     # Nombre del archivo en MinIO\n",
    "\n",
    "result = client.put_object(\n",
    "    bucket_name, object_name, io.BytesIO(b\"hello\"), 5,\n",
    ")\n",
    "print(\n",
    "    \"created {0} object; etag: {1}, version-id: {2}\".format(\n",
    "        result.object_name, result.etag, result.version_id,\n",
    "    ),\n",
    ")"
   ]
  },
  {
   "cell_type": "code",
   "execution_count": 61,
   "id": "2da2bb7b-3d2b-49bc-b43e-26f706aa8dbb",
   "metadata": {},
   "outputs": [],
   "source": [
    "# Get data of an object.\n",
    "bucket_name = \"mybucket\"\n",
    "object_name = \"my-object\"\n",
    "\n",
    "response = None\n",
    "try:\n",
    "    response = client.get_object(bucket_name, object_name)\n",
    "    # Read data from response.\n",
    "finally:\n",
    "    if response:\n",
    "        response.close()\n",
    "        response.release_conn()"
   ]
  },
  {
   "cell_type": "code",
   "execution_count": 59,
   "id": "2948f774-5400-4eff-a011-7f0736f1aeca",
   "metadata": {},
   "outputs": [
    {
     "data": {
      "text/plain": [
       "<urllib3.response.HTTPResponse at 0x13e8365c0>"
      ]
     },
     "execution_count": 59,
     "metadata": {},
     "output_type": "execute_result"
    }
   ],
   "source": [
    "response"
   ]
  },
  {
   "cell_type": "code",
   "execution_count": 64,
   "id": "07fc52d7-83e3-42c9-b54d-22710977009e",
   "metadata": {},
   "outputs": [
    {
     "name": "stdout",
     "output_type": "stream",
     "text": [
      "'mybucket' exists\n"
     ]
    }
   ],
   "source": [
    "# Verificación de existencia\n",
    "bucket_name = \"mybucket\"\n",
    "\n",
    "if client.bucket_exists(bucket_name):\n",
    "    print(f\"'{bucket_name}' exists\")\n",
    "else:\n",
    "    print(f\"'{bucket_name}' does not exist\")"
   ]
  }
 ],
 "metadata": {
  "kernelspec": {
   "display_name": "Python 3 (ipykernel)",
   "language": "python",
   "name": "python3"
  },
  "language_info": {
   "codemirror_mode": {
    "name": "ipython",
    "version": 3
   },
   "file_extension": ".py",
   "mimetype": "text/x-python",
   "name": "python",
   "nbconvert_exporter": "python",
   "pygments_lexer": "ipython3",
   "version": "3.11.7"
  }
 },
 "nbformat": 4,
 "nbformat_minor": 5
}
