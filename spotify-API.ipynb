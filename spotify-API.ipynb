{
 "cells": [
  {
   "cell_type": "code",
   "execution_count": null,
   "metadata": {},
   "outputs": [],
   "source": [
    "#from dotenv import load_dotenv\n",
    "import os\n",
    "import requests\n",
    "import base64\n",
    "import csv"
   ]
  },
  {
   "cell_type": "code",
   "execution_count": null,
   "metadata": {},
   "outputs": [],
   "source": [
    "# Cargar el archivo .env\n",
    "#load_dotenv()\n",
    "\n",
    "# Credenciales de la aplicación (por ahora se hardcodean en el codigo)\n",
    "client_id = 'dd5330a3e8a748aa8b74f19336b196f1'\n",
    "client_secret = 'ee6e6be9304c403fa6072e2f7c5d249c'\n",
    "\n",
    "# Codificar las credenciales en base64\n",
    "credentials = f\"{client_id}:{client_secret}\"\n",
    "encoded_credentials = base64.b64encode(credentials.encode()).decode()"
   ]
  },
  {
   "cell_type": "code",
   "execution_count": 15,
   "metadata": {},
   "outputs": [],
   "source": [
    "# Obtener access token\n",
    "def GetAccessToken() :\n",
    "    token_url = 'https://accounts.spotify.com/api/token'\n",
    "    headers = {\n",
    "        'Authorization': f'Basic {encoded_credentials}',\n",
    "        'Content-Type': 'application/x-www-form-urlencoded'\n",
    "    }\n",
    "    data = {'grant_type': 'client_credentials'}\n",
    "\n",
    "    response = requests.post(token_url, headers=headers, data=data)\n",
    "    access_token = response.json().get('access_token')\n",
    "    return access_token"
   ]
  },
  {
   "cell_type": "code",
   "execution_count": 16,
   "metadata": {},
   "outputs": [],
   "source": [
    "# Se guarda el access token\n",
    "access_token = GetAccessToken()"
   ]
  },
  {
   "cell_type": "code",
   "execution_count": 17,
   "metadata": {},
   "outputs": [],
   "source": [
    "track_id = '1z1Hg7Vb0AhHDiEmnDE79l'\n",
    "track_name = 'All the Time - Don Diablo Remix'\n",
    "playlist_id = '37i9dQZF1DXcZDD7cfEKhW'\n",
    "artist_id = '1Xylc3o4UrD53lo9CvFvVg'"
   ]
  },
  {
   "cell_type": "code",
   "execution_count": 18,
   "metadata": {},
   "outputs": [],
   "source": [
    "def GetTrackInfo(track_id) :\n",
    "    track_url = f'https://api.spotify.com/v1/tracks/{track_id}'\n",
    "    headers = {'Authorization': f'Bearer {access_token}'}\n",
    "\n",
    "    response = requests.get(track_url, headers=headers)\n",
    "    track_info = response.json()\n",
    "    return track_info\n",
    "\n",
    "def GetTracksInfo(track_ids) :\n",
    "    track_url = f\"https://api.spotify.com/v1/tracks?ids={','.join(track_ids)}\"\n",
    "    headers = {'Authorization': f'Bearer {access_token}'}\n",
    "\n",
    "    response = requests.get(track_url, headers=headers)\n",
    "    track_info = response.json()\n",
    "    return track_info"
   ]
  },
  {
   "cell_type": "code",
   "execution_count": 19,
   "metadata": {},
   "outputs": [],
   "source": [
    "def SearchByName(track_name, limit = 5) :\n",
    "    url = 'https://api.spotify.com/v1/search'\n",
    "    params = {\n",
    "        'q': track_name,\n",
    "        'type': 'track',\n",
    "        'limit': limit\n",
    "    }\n",
    "    headers = {\n",
    "        'Authorization': f'Bearer {access_token}'\n",
    "    }\n",
    "\n",
    "    response = requests.get(url, headers=headers, params=params)\n",
    "    search_results = response.json()\n",
    "    return search_results"
   ]
  },
  {
   "cell_type": "code",
   "execution_count": 20,
   "metadata": {},
   "outputs": [],
   "source": [
    "def SearchByYear(year_range = '2010-2020' , limit = 5) :\n",
    "    track_ids = []\n",
    "    url = 'https://api.spotify.com/v1/search'\n",
    "    params = {\n",
    "        'q': f'year: {year_range}',\n",
    "        'type': 'track',\n",
    "        'limit': limit\n",
    "    }\n",
    "    headers = {\n",
    "        'Authorization': f'Bearer {access_token}'\n",
    "    }\n",
    "\n",
    "    response = requests.get(url, headers=headers, params=params)\n",
    "    search_results = response.json()\n",
    "\n",
    "    for track in search_results['tracks']['items']:\n",
    "        track_ids.append(track['id'])\n",
    "\n",
    "    return track_ids"
   ]
  },
  {
   "cell_type": "code",
   "execution_count": 21,
   "metadata": {},
   "outputs": [],
   "source": [
    "def GetAudioFeatures(track_id) :\n",
    "    url = f'https://api.spotify.com/v1/audio-features/{track_id}'\n",
    "    headers = {\n",
    "        'Authorization': f'Bearer {access_token}'\n",
    "    }\n",
    "\n",
    "    response = requests.get(url, headers=headers)\n",
    "    audio_features = response.json()\n",
    "    return audio_features\n",
    "\n",
    "\n",
    "def GetAudiosFeatures(track_ids) :    \n",
    "    url = f\"https://api.spotify.com/v1/audio-features?ids={','.join(track_ids)}\"\n",
    "    headers = {\n",
    "        'Authorization': f'Bearer {access_token}'\n",
    "    }\n",
    "\n",
    "    response = requests.get(url, headers=headers)\n",
    "    audio_features = response.json()\n",
    "    return audio_features"
   ]
  },
  {
   "cell_type": "code",
   "execution_count": 22,
   "metadata": {},
   "outputs": [],
   "source": [
    "def GetPlaylistTracks(playlist_id) :\n",
    "    playlist_url = f'https://api.spotify.com/v1/playlists/{playlist_id}/tracks'\n",
    "    headers = {\n",
    "        'Authorization': f'Bearer {access_token}'\n",
    "    }\n",
    "\n",
    "    playlist_response = requests.get(playlist_url, headers=headers)\n",
    "    playlist_tracks = playlist_response.json()\n",
    "\n",
    "    return playlist_tracks"
   ]
  },
  {
   "cell_type": "code",
   "execution_count": 23,
   "metadata": {},
   "outputs": [],
   "source": [
    "def GetArtistInfo(artist_id) :\n",
    "    artist_url = f'https://api.spotify.com/v1/artists/{artist_id}'\n",
    "    headers = {\n",
    "        'Authorization': f'Bearer {access_token}'\n",
    "    }\n",
    "    \n",
    "    artist_response = requests.get(artist_url, headers=headers)\n",
    "    artist_data = artist_response.json()\n",
    "    return artist_data"
   ]
  },
  {
   "cell_type": "code",
   "execution_count": 33,
   "metadata": {},
   "outputs": [],
   "source": [
    "def JoinTrackInfo(track_info, audio_features) :\n",
    "\n",
    "    new_data = {\n",
    "        \"track_id\": track_info['id'],\n",
    "        \"track_name\": track_info['name'],\n",
    "        \"track_artist\": track_info['artists'][0]['name'],\n",
    "        \"track_artist_id\": track_info['artists'][0]['id'],\n",
    "        \"track_popularity\": track_info['popularity'],\n",
    "        \"track_album_id\": track_info['album']['id'],\n",
    "        \"track_album_name\": track_info['album']['name'],\n",
    "        \"album_release_date\": track_info['album']['release_date'],\n",
    "        \"danceability\": audio_features['danceability'],\n",
    "        \"energy\": audio_features[\"energy\"],\n",
    "        \"key\": audio_features[\"key\"],\n",
    "        \"loudness\": audio_features[\"loudness\"],\n",
    "        \"mode\": audio_features[\"mode\"],\n",
    "        \"speechiness\": audio_features[\"speechiness\"],\n",
    "        \"acousticness\": audio_features[\"acousticness\"],\n",
    "        \"instrumentalness\": audio_features[\"instrumentalness\"],\n",
    "        \"liveness\": audio_features[\"liveness\"],\n",
    "        \"valence\": audio_features[\"valence\"],\n",
    "        \"tempo\": audio_features[\"tempo\"],\n",
    "        \"duration_ms\": track_info['duration_ms'],\n",
    "    }\n",
    "\n",
    "    return new_data"
   ]
  },
  {
   "cell_type": "code",
   "execution_count": null,
   "metadata": {},
   "outputs": [
    {
     "name": "stdout",
     "output_type": "stream",
     "text": [
      "Tenemos 94 nuevos track ids\n"
     ]
    }
   ],
   "source": [
    "# obtenemos tracks ids para distintos periodos - el limite maximo por llamada del search es 50\n",
    "\n",
    "track_ids = []\n",
    "\n",
    "track_ids.extend(SearchByYear(year_range='1990-1995', limit=50))\n",
    "track_ids.extend(SearchByYear(year_range='1996-2000', limit=50))\n",
    "#track_ids.extend(SearchByYear(year_range='2001-2005', limit=50))\n",
    "#track_ids.extend(SearchByYear(year_range=\"2006-2010\", limit=50))\n",
    "#track_ids.extend(SearchByYear(year_range=\"2011-2015\", limit=50))\n",
    "\n",
    "# eliminamos los duplicados\n",
    "track_ids = list(dict.fromkeys(track_ids))\n",
    "\n",
    "print(f'Tenemos {len(track_ids)} nuevos track ids')"
   ]
  },
  {
   "cell_type": "code",
   "execution_count": null,
   "metadata": {},
   "outputs": [],
   "source": [
    "# para toda la lista track_ids obtenemos la track info y audio features\n",
    "\n",
    "tracks_info = GetTracksInfo(track_ids)\n",
    "audio_features = GetAudiosFeatures(track_ids)\n",
    "\n",
    "# guardamos la informacion en una lista\n",
    "\n",
    "tracks = []\n",
    "\n",
    "for i in range(len(track_ids)):\n",
    "    track = JoinTrackInfo(tracks_info['tracks'][i], audio_features['audio_features'][i])\n",
    "    tracks.append(track)\n",
    "    # print(f'{i} - {track}')"
   ]
  },
  {
   "cell_type": "code",
   "execution_count": null,
   "metadata": {},
   "outputs": [],
   "source": [
    "# guardamos la nueva lista en datasets/new_song_list.csv\n",
    "\n",
    "fields = list(tracks[0].keys())\n",
    "\n",
    "with open('datasets/new_song_list.csv', mode='w', newline='') as file:\n",
    "    writer = csv.DictWriter(file, fieldnames=fields)\n",
    "    writer.writeheader()\n",
    "    writer.writerows(tracks)"
   ]
  }
 ],
 "metadata": {
  "kernelspec": {
   "display_name": "CEIA",
   "language": "python",
   "name": "python3"
  },
  "language_info": {
   "codemirror_mode": {
    "name": "ipython",
    "version": 3
   },
   "file_extension": ".py",
   "mimetype": "text/x-python",
   "name": "python",
   "nbconvert_exporter": "python",
   "pygments_lexer": "ipython3",
   "version": "3.12.5"
  }
 },
 "nbformat": 4,
 "nbformat_minor": 2
}
