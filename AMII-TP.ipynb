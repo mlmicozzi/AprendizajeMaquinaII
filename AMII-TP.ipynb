{
 "cells": [
  {
   "cell_type": "markdown",
   "id": "29d2e7bd-48f6-45c6-9544-13b25e24e2c5",
   "metadata": {},
   "source": [
    "# Trabajo práctico integrador - Aprendizaje de Máquinas II\n",
    "## Carrera de Especialización En Inteligencia Artificial - Cohorte 17\n",
    "### Autores:\n",
    "* Horn, Martín\n",
    "* Lloveras, Alejandro\n",
    "* Méndez, Diego Martín\n",
    "* Micozzi, María Luz\n",
    "* Ruíz Otondo, Juan"
   ]
  },
  {
   "cell_type": "code",
   "execution_count": 1,
   "id": "c2e8a87e-159c-47d7-a670-2eee8d64f1f0",
   "metadata": {},
   "outputs": [],
   "source": [
    "# Importamos librerías\n",
    "import pandas as pd\n",
    "import numpy as np\n",
    "import matplotlib.pyplot as plt\n",
    "import seaborn as sns\n",
    "from sklearn.preprocessing import MinMaxScaler, StandardScaler\n",
    "import pickle\n",
    "import sys\n",
    "sys.path.append('/functions')\n",
    "from functions.etl import load_data_from_source, split_dataset\n",
    "from functions.test_model import load_model, test_model, model_metrics"
   ]
  }
 ],
 "metadata": {
  "kernelspec": {
   "display_name": "Python 3 (ipykernel)",
   "language": "python",
   "name": "python3"
  },
  "language_info": {
   "codemirror_mode": {
    "name": "ipython",
    "version": 3
   },
   "file_extension": ".py",
   "mimetype": "text/x-python",
   "name": "python",
   "nbconvert_exporter": "python",
   "pygments_lexer": "ipython3",
   "version": "3.12.5"
  }
 },
 "nbformat": 4,
 "nbformat_minor": 5
}
