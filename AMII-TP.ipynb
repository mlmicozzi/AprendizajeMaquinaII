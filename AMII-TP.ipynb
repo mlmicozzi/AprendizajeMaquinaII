{
 "cells": [
  {
   "cell_type": "markdown",
   "id": "29d2e7bd-48f6-45c6-9544-13b25e24e2c5",
   "metadata": {},
   "source": [
    "# Trabajo práctico integrador - Aprendizaje de Máquinas II\n",
    "## Carrera de Especialización En Inteligencia Artificial - Cohorte 17\n",
    "### Autores:\n",
    "* Horn, Martín\n",
    "* Lloveras, Alejandro\n",
    "* Méndez, Diego Martín\n",
    "* Micozzi, María Luz\n",
    "* Ruíz Otondo, Juan"
   ]
  },
  {
   "cell_type": "markdown",
   "id": "a25badc8",
   "metadata": {},
   "source": [
    "**Objetivo del trabajo**\n",
    "\n"
   ]
  },
  {
   "cell_type": "markdown",
   "id": "1a7528f5",
   "metadata": {},
   "source": [
    "## Dataset"
   ]
  },
  {
   "cell_type": "markdown",
   "id": "f0962293",
   "metadata": {},
   "source": [
    "Los datos que alimentan al modelo de recomendación provienen de un proceso de exploración y transformación del dataset público en Kaggle `30000-spotify-songs`, que fue construido a través de un proceso de scrapeo de la API de Spotify (`spotifyr`).\n",
    "\n",
    "El dataset cuenta con información de canciones de Spotify, actualizada hasta fines del 2023, organizadas en 6 categorias (EDM, Latin, Pop, R&B, Rap y Rock).\n",
    "\n",
    "De los 32833 registros del dataset original, nuestro set de datos se reduce a 23081 entradas (**-29.70%**) luego del proceso de limpieza aplicado."
   ]
  },
  {
   "cell_type": "markdown",
   "id": "287d3054",
   "metadata": {},
   "source": [
    "### Fuentes"
   ]
  },
  {
   "cell_type": "markdown",
   "id": "b83fb6e0",
   "metadata": {},
   "source": [
    "__*Dataset procesado:*__\n",
    "\n",
    "https://github.com/mlmicozzi/SPOTIFY/\n",
    "\n",
    "__*Original dataset:*__\n",
    "\n",
    "https://www.kaggle.com/datasets/joebeachcapital/30000-spotify-songs\n",
    "\n",
    "__*API scraper repository:*__\n",
    "\n",
    "https://github.com/charlie86/spotifyr/"
   ]
  },
  {
   "cell_type": "markdown",
   "id": "b12c1941",
   "metadata": {},
   "source": [
    "### Campos:"
   ]
  },
  {
   "cell_type": "markdown",
   "id": "86fd6100",
   "metadata": {},
   "source": [
    "| Variable                  | Descripción                                                                                                                                                                                                                                     |\n",
    "|---------------------------|-------------------------------------------------------------------------------------------------------------------------------------------------------------------------------------------------------------------------------------------------|\n",
    "| `track_id`                | ID único de la canción                                                                                                                                                                                                                          |\n",
    "| `track_name`              | Nombre de la canción                                                                                                                                                                                                                             |\n",
    "| `track_artist`            | Artista de la canción                                                                                                                                                                                                                            |\n",
    "| `track_popularity`        | Popularidad de la canción (0-100), donde un valor más alto indica una mayor popularidad                                                                                                                                                         |\n",
    "| `track_album_id`          | ID único del álbum                                                                                                                                                                                                                               |\n",
    "| `track_album_name`        | Nombre del álbum de la canción                                                                                                                                                                                                                  |\n",
    "| `track_album_release_date`| Fecha de lanzamiento del álbum                                                                                                                                                                                                                   |\n",
    "| `playlist_name`           | Nombre de la lista de reproducción                                                                                                                                                                                                              |\n",
    "| `playlist_id`             | ID de la lista de reproducción                                                                                                                                                                                                                   |\n",
    "| `playlist_genre`          | Género de la lista de reproducción                                                                                                                                                                                                               |\n",
    "| `playlist_subgenre`       | Subgénero de la lista de reproducción                                                                                                                                                                                                            |\n",
    "| `danceability`            | Describe qué tan adecuada es una pista para bailar, basándose en una combinación de elementos musicales. Un valor de 0.0 es menos bailable y 1.0 es más danceable.                                                            |\n",
    "| `energy`                  | La energía es una medida de 0.0 a 1.0 y representa una medida perceptual de intensidad y actividad. Típicamente, las pistas energéticas se sienten rápidas y ruidosas.                                                                 |\n",
    "| `key`                     | La tonalidad general estimada de la pista. Los enteros se asignan a notas utilizando la notación estándar de Clase de Tonos. Ej. 0 = C, 1 = C♯/D♭, 2 = D, y así sucesivamente. Si no se detecta tonalidad, el valor es -1.                          |\n",
    "| `loudness`                | La sonoridad general de una pista en decibelios (dB). Los valores típicos oscilan entre -60 y 0 dB.                                                                                     |\n",
    "| `mode`                    | El modo indica la modalidad (mayor o menor) de una pista. Mayor está representado por 1 y menor por 0.                                                                                  |\n",
    "| `speechiness`             | La presencia de palabras habladas en una pista. Los valores por encima de 0.66 describen pistas que probablemente están hechas completamente de palabras habladas.                                                                           |\n",
    "| `acousticness`            | Una medida de confianza de 0.0 a 1.0 sobre si la pista es acústica. 1.0 representa una alta confianza en que la pista es acústica.                                                     |\n",
    "| `instrumentalness`        | Predice si una pista no contiene voces. Valores por encima de 0.5 están destinados a representar pistas instrumentales.                                                                  |\n",
    "| `liveness`                | Detecta la presencia de una audiencia en la grabación. Un valor superior a 0.8 proporciona una alta probabilidad de que la pista sea en vivo.                                          |\n",
    "| `valence`                 | Una medida de 0.0 a 1.0 que describe la positividad musical transmitida por una pista. Las pistas con alta valencia suenan más positivas (por ejemplo, felices, alegres, eufóricas), mientras que las pistas con baja valencia suenan más negativas (por ejemplo, tristes, deprimidas, enojadas). |\n",
    "| `tempo`                   | El tempo estimado general de una pista en beats por minuto (BPM).                                                                                                                      |\n",
    "| `duration_ms`             | Duración de la canción en milisegundos                                                                                                                                                                                                          |\n",
    "| `year`             | Año de lanzamiento del álbum (formato: 1978)                                                                                                                                                                                                          |\n"
   ]
  }
 ],
 "metadata": {
  "kernelspec": {
   "display_name": "Python 3 (ipykernel)",
   "language": "python",
   "name": "python3"
  },
  "language_info": {
   "codemirror_mode": {
    "name": "ipython",
    "version": 3
   },
   "file_extension": ".py",
   "mimetype": "text/x-python",
   "name": "python",
   "nbconvert_exporter": "python",
   "pygments_lexer": "ipython3",
   "version": "3.12.5"
  }
 },
 "nbformat": 4,
 "nbformat_minor": 5
}
