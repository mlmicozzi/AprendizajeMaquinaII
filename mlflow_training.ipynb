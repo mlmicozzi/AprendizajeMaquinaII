{
 "cells": [
  {
   "cell_type": "markdown",
   "metadata": {},
   "source": [
    "# Models Training Model Registry (experiments)"
   ]
  },
  {
   "cell_type": "markdown",
   "metadata": {},
   "source": [
    "En este código, se entrena diferentes modelos para explorar distintas opciones para resolver la predicción sportify\n",
    "Apache Airflow\n",
    "MLflow\n",
    "MinIO (ventana de administración de Buckets)\n",
    "FAST API\n",
    "Documentación de la API\n",
    "Gradio, Posgresql"
   ]
  },
  {
   "cell_type": "markdown",
   "metadata": {},
   "source": [
    "Este proyecto utiliza MLflow para el seguimiento detallado de los procesos de ETL, el tuneo de hiperparámetros (Runs y Runs Anidados, Modelos y Artefactos), registro de procesos del DAG de ETL y el reentrenamiento de modelos (Información de los Runs de Reentrenamiento, comparación de Métricas). "
   ]
  },
  {
   "cell_type": "markdown",
   "metadata": {},
   "source": [
    "## Importar datos y librerias"
   ]
  },
  {
   "cell_type": "code",
   "execution_count": 17,
   "metadata": {},
   "outputs": [],
   "source": [
    "import mlflow\n",
    "from datetime import datetime\n",
    "import awswrangler as wr\n",
    "import random\n",
    "import numpy as np\n",
    "from sklearn.model_selection import train_test_split, GridSearchCV\n",
    "from sklearn.preprocessing import StandardScaler\n",
    "from sklearn.ensemble import RandomForestRegressor\n",
    "from sklearn.metrics import mean_squared_error, mean_absolute_error, r2_score\n",
    "from mlflow import MlflowClient\n",
    "\n",
    "from plots import plot_information_gain_with_target, plot_correlation_with_target\n",
    "from utils import get_or_create_experiment"
   ]
  },
  {
   "cell_type": "markdown",
   "metadata": {},
   "source": [
    "\n",
    "Exporta las variables de entorno necesarias para trabajar con Minio."
   ]
  },
  {
   "cell_type": "code",
   "execution_count": null,
   "metadata": {},
   "outputs": [
    {
     "name": "stdout",
     "output_type": "stream",
     "text": [
      "env: AWS_ACCESS_KEY_ID=minio\n",
      "env: AWS_SECRET_ACCESS_KEY=minio123\n",
      "env: MLFLOW_S3_ENDPOINT_URL=http://localhost:9000\n",
      "env: AWS_ENDPOINT_URL_S3=http://localhost:9000\n"
     ]
    }
   ],
   "source": [
    "# Exportar variables de entorno\n",
    "%env AWS_ACCESS_KEY_ID=minio   \n",
    "%env AWS_SECRET_ACCESS_KEY=minio123 \n",
    "%env MLFLOW_S3_ENDPOINT_URL=http://localhost:9000\n",
    "%env AWS_ENDPOINT_URL_S3=http://localhost:9000"
   ]
  },
  {
   "cell_type": "code",
   "execution_count": 19,
   "metadata": {},
   "outputs": [],
   "source": [
    "mlflow_server = \"http://localhost:5000\"\n",
    "\n",
    "mlflow.set_tracking_uri(mlflow_server)"
   ]
  },
  {
   "cell_type": "markdown",
   "metadata": {},
   "source": [
    "Carga los datos procesados desde Minio.\n"
   ]
  },
  {
   "cell_type": "code",
   "execution_count": 20,
   "metadata": {},
   "outputs": [],
   "source": [
    "X_train_df = wr.s3.read_csv(\"s3://data/train/bike_sharing_demand_X_train_scaled.csv\")\n",
    "y_train_df = wr.s3.read_csv(\"s3://data/train/bike_sharing_demand_y_train.csv\")\n",
    "X_test_df = wr.s3.read_csv(\"s3://data/test/bike_sharing_demand_X_test_scaled.csv\")\n",
    "y_test_df = wr.s3.read_csv(\"s3://data/test/bike_sharing_demand_y_test.csv\")"
   ]
  },
  {
   "cell_type": "code",
   "execution_count": 21,
   "metadata": {},
   "outputs": [],
   "source": [
    "corr_plot = plot_correlation_with_target(X_train_df, y_train_df)\n",
    "information_gain_plot = plot_information_gain_with_target(X_train_df, y_train_df)"
   ]
  },
  {
   "cell_type": "code",
   "execution_count": 22,
   "metadata": {},
   "outputs": [],
   "source": [
    "X_train = X_train_df.to_numpy()\n",
    "y_train = y_train_df.to_numpy().ravel()\n",
    "X_test = X_test_df.to_numpy()\n",
    "y_test = y_test_df.to_numpy().ravel()"
   ]
  },
  {
   "cell_type": "markdown",
   "metadata": {},
   "source": [
    "# Model training"
   ]
  },
  {
   "cell_type": "markdown",
   "metadata": {},
   "source": [
    "Inicializar el experimento mlflow"
   ]
  },
  {
   "cell_type": "code",
   "execution_count": 23,
   "metadata": {},
   "outputs": [
    {
     "name": "stdout",
     "output_type": "stream",
     "text": [
      "Experiment ID: 1\n"
     ]
    }
   ],
   "source": [
    "experiment_id = get_or_create_experiment(\"Bike Sharing Demand\")\n",
    "\n",
    "print(f\"Experiment ID: {experiment_id}\")"
   ]
  },
  {
   "cell_type": "code",
   "execution_count": 24,
   "metadata": {},
   "outputs": [],
   "source": [
    "run_name_parent = \"best_hyperparam_\"  + datetime.today().strftime('%Y/%m/%d-%H:%M:%S\"')"
   ]
  },
  {
   "cell_type": "markdown",
   "metadata": {},
   "source": [
    "Muestra el tamaño de los conjuntos de entrenamiento y prueba"
   ]
  },
  {
   "cell_type": "code",
   "execution_count": 25,
   "metadata": {},
   "outputs": [
    {
     "data": {
      "text/plain": [
       "((12165, 20), (12165,), (5214, 20), (5214,))"
      ]
     },
     "execution_count": 25,
     "metadata": {},
     "output_type": "execute_result"
    }
   ],
   "source": [
    "X_train.shape, y_train.shape, X_test.shape, y_test.shape"
   ]
  },
  {
   "cell_type": "markdown",
   "metadata": {},
   "source": [
    "La normalización de los datos es un paso importante antes de entrenar el modelo. "
   ]
  },
  {
   "cell_type": "code",
   "execution_count": null,
   "metadata": {},
   "outputs": [
    {
     "name": "stderr",
     "output_type": "stream",
     "text": [
      "/home/chris/bike-sharing-demand/venv/lib/python3.10/site-packages/_distutils_hack/__init__.py:16: UserWarning: Distutils was imported before Setuptools, but importing Setuptools also replaces the `distutils` module in `sys.modules`. This may lead to undesirable behaviors or errors. To avoid these issues, avoid using distutils directly, ensure that setuptools is installed in the traditional way (e.g. not an editable install), and/or make sure that setuptools is always imported before distutils.\n",
      "  warnings.warn(\n",
      "/home/chris/bike-sharing-demand/venv/lib/python3.10/site-packages/_distutils_hack/__init__.py:31: UserWarning: Setuptools is replacing distutils. Support for replacing an already imported distutils is deprecated. In the future, this condition will fail. Register concerns at https://github.com/pypa/setuptools/issues/new?template=distutils-deprecation.yml\n",
      "  warnings.warn(\n",
      "Successfully registered model 'bike_sharing_model_dev'.\n",
      "2024/08/25 18:41:09 INFO mlflow.store.model_registry.abstract_store: Waiting up to 300 seconds for model version to finish creation. Model name: bike_sharing_model_dev, version 1\n",
      "Created version '1' of model 'bike_sharing_model_dev'.\n",
      "2024/08/25 18:41:09 INFO mlflow.tracking._tracking_service.client: 🏃 View run best_hyperparam_2024/08/25-18:39:07\" at: http://localhost:5000/#/experiments/1/runs/16508c7082cf45d79ce7515e1a8524cc.\n",
      "2024/08/25 18:41:09 INFO mlflow.tracking._tracking_service.client: 🧪 View experiment at: http://localhost:5000/#/experiments/1.\n"
     ]
    },
    {
     "name": "stdout",
     "output_type": "stream",
     "text": [
      "Best Random Forest model logged with MSE: 0.14709518748886086, RMSE: 0.14709518748886086, MAE: 0.25692102312919873, R²: 0.9336163145130275\n",
      "Best Random Forest parameters: {'max_depth': 15, 'n_estimators': 100}\n"
     ]
    }
   ],
   "source": [
    "# Definir la red de parámetros para Random Forest\n",
    "param_grid_rf = {\n",
    "    'n_estimators': [100, 150], \n",
    "    'max_depth': [10, 15, 17],\n",
    "}\n",
    "\n",
    "# Inicializar el modelo regresor Random Forest\n",
    "rf_model = RandomForestRegressor()\n",
    "\n",
    "# Configurar la búsqueda en cuadrícula con validación cruzada quíntuple\n",
    "grid_search_rf = GridSearchCV(estimator=rf_model, param_grid=param_grid_rf, cv=5, scoring='neg_mean_squared_error')\n",
    "\n",
    "#  Iniciar la ejecución de MLflow\n",
    "with mlflow.start_run(experiment_id=experiment_id, run_name=run_name_parent, nested=True):\n",
    "    # Realizar la búsqueda en la cuadrícula y ajustar el modelo\n",
    "    grid_search_rf.fit(X_train, y_train)\n",
    "    \n",
    "    # Obtener el mejor modelo a partir de la búsqueda en la parrilla\n",
    "    best_rf_model = grid_search_rf.best_estimator_\n",
    "    \n",
    "    # Hacer predicciones utilizando el mejor modelo\n",
    "    rf_predictions = best_rf_model.predict(X_test)\n",
    "    \n",
    "    # Calcular métricas\n",
    "    mse_rf = mean_squared_error(y_test, rf_predictions)\n",
    "    rmse_rf = mean_squared_error(y_test, rf_predictions, squared=True)\n",
    "    mae_rf = mean_absolute_error(y_test, rf_predictions)\n",
    "    r2_rf = r2_score(y_test, rf_predictions)\n",
    "    \n",
    "    # Registrar los mejores parámetros y métricas en MLflow\n",
    "    mlflow.log_param(\"best_rf_n_estimators\", best_rf_model.n_estimators)\n",
    "    mlflow.log_param(\"best_rf_max_depth\", best_rf_model.max_depth)\n",
    "    mlflow.log_param(\"best_rf_min_samples_split\", best_rf_model.min_samples_split)\n",
    "    mlflow.log_param(\"best_rf_min_samples_leaf\", best_rf_model.min_samples_leaf)\n",
    "    mlflow.log_param(\"best_rf_bootstrap\", best_rf_model.bootstrap)\n",
    "    \n",
    "    mlflow.log_metric(\"best_rf_mse\", mse_rf)\n",
    "    mlflow.log_metric(\"best_rf_rmse\", rmse_rf)\n",
    "    mlflow.log_metric(\"best_rf_mae\", mae_rf)\n",
    "    mlflow.log_metric(\"best_rf_r2\", r2_rf)\n",
    "    \n",
    "    mlflow.log_figure(corr_plot, artifact_file=\"correlation_with_target.png\")\n",
    "    mlflow.log_figure(information_gain_plot, artifact_file=\"information_gain_with_target.png\")\n",
    "    \n",
    "    # Obtener la primera fila del conjunto de prueba y registrarla en MLflow\n",
    "    input_example = X_test[0:1]\n",
    "    \n",
    "    # Definir la ruta del artefacto\n",
    "    artifact_path = \"best_rf_model\"\n",
    "    \n",
    "    # Inferir el esquema del ejemplo de entrada\n",
    "    signature = mlflow.models.infer_signature(X_train, best_rf_model.predict(X_train))\n",
    "    \n",
    "    # Log the best Random Forest model to the MLflow server\n",
    "    mlflow.sklearn.log_model(\n",
    "        sk_model=best_rf_model,\n",
    "        artifact_path=artifact_path,\n",
    "        signature=signature,\n",
    "        serialization_format='cloudpickle',\n",
    "        registered_model_name='bike_sharing_model_dev',\n",
    "        metadata={'model_data_version': 1}\n",
    "    )\n",
    "    \n",
    "    # Obtener el URI del modelo registrado\n",
    "    model_uri = mlflow.get_artifact_uri(artifact_path)\n",
    "    \n",
    "    # Imprimir los resultados\n",
    "    print(f\"Best Random Forest model logged with MSE: {mse_rf}, RMSE: {rmse_rf}, MAE: {mae_rf}, R²: {r2_rf}\")\n",
    "    print(f\"Best Random Forest parameters: {grid_search_rf.best_params_}\")"
   ]
  },
  {
   "cell_type": "markdown",
   "metadata": {},
   "source": [
    "## Testing the model"
   ]
  },
  {
   "cell_type": "code",
   "execution_count": 27,
   "metadata": {},
   "outputs": [],
   "source": [
    "loaded_model = mlflow.sklearn.load_model(model_uri)"
   ]
  },
  {
   "cell_type": "code",
   "execution_count": 28,
   "metadata": {},
   "outputs": [],
   "source": [
    "X_test = np.array(X_test)"
   ]
  },
  {
   "cell_type": "code",
   "execution_count": null,
   "metadata": {},
   "outputs": [
    {
     "name": "stdout",
     "output_type": "stream",
     "text": [
      "Input example: [-1.003541   -0.16956604 -1.46237645  1.56384119  0.16826865 -0.45203217\n",
      " -0.59618097 -0.29878575 -0.01282315 -0.58212799  1.68342244 -0.56997785\n",
      " -0.40854189 -0.39931795 -0.40771959 -0.40895277 -0.40840489 -0.4120971\n",
      "  0.58631601 -1.3282028 ]\n"
     ]
    }
   ],
   "source": [
    "# Obtener un elemento aleatorio del conjunto de prueba\n",
    "input_example = X_test[random.randint(0, X_test.shape[0])] \n",
    "\n",
    "print(f\"Input example: {input_example}\")"
   ]
  },
  {
   "cell_type": "code",
   "execution_count": 30,
   "metadata": {},
   "outputs": [
    {
     "name": "stderr",
     "output_type": "stream",
     "text": [
      "/tmp/ipykernel_67035/3514142192.py:1: DeprecationWarning: Conversion of an array with ndim > 0 to a scalar is deprecated, and will error in future. Ensure you extract a single element from your array before performing this operation. (Deprecated NumPy 1.25.)\n",
      "  int(np.exp(loaded_model.predict(input_example.reshape(1, -1))))\n"
     ]
    },
    {
     "data": {
      "text/plain": [
       "276"
      ]
     },
     "execution_count": 30,
     "metadata": {},
     "output_type": "execute_result"
    }
   ],
   "source": [
    "int(np.exp(loaded_model.predict(input_example.reshape(1, -1))))"
   ]
  },
  {
   "cell_type": "markdown",
   "metadata": {},
   "source": [
    "## Register the model"
   ]
  },
  {
   "cell_type": "code",
   "execution_count": 31,
   "metadata": {},
   "outputs": [
    {
     "name": "stderr",
     "output_type": "stream",
     "text": [
      "2024/08/25 18:42:32 INFO mlflow.store.model_registry.abstract_store: Waiting up to 300 seconds for model version to finish creation. Model name: bike_sharing_model_prod, version 1\n"
     ]
    }
   ],
   "source": [
    "client = MlflowClient()\n",
    "\n",
    "name = \"bike_sharing_model_prod\"\n",
    "desc = \"Production model for bike sharing demand prediction\"\n",
    "\n",
    "client.create_registered_model(name=name, description=desc)\n",
    "\n",
    "tags = best_rf_model.get_params()\n",
    "tags[\"model\"] = type(best_rf_model).__name__\n",
    "tags[\"mse\"] = mse_rf\n",
    "tags[\"r2\"] = r2_rf\n",
    "\n",
    "result = client.create_model_version(\n",
    "    name=name,\n",
    "    source=model_uri,\n",
    "    run_id=model_uri.split(\"/\")[-3],\n",
    "    tags=tags\n",
    ")\n",
    "\n",
    "client.set_registered_model_alias(name, \"champion\", result.version)"
   ]
  },
  {
   "cell_type": "code",
   "execution_count": null,
   "metadata": {},
   "outputs": [],
   "source": [
    "Otra opción\n"
   ]
  },
  {
   "cell_type": "code",
   "execution_count": null,
   "metadata": {},
   "outputs": [],
   "source": [
    "def get_or_create_experiment(experiment_name):\n",
    "    \"\"\"\n",
    "    Retrieve the ID of an existing MLflow experiment or create a new one if it doesn't exist.\n",
    "\n",
    "    This function checks if an experiment with the given name exists within MLflow.\n",
    "    If it does, the function returns its ID. If not, it creates a new experiment\n",
    "    with the provided name and returns its ID.\n",
    "\n",
    "    Parameters:\n",
    "    - experiment_name (str): Name of the MLflow experiment.\n",
    "\n",
    "    Returns:\n",
    "    - str: ID of the existing or newly created MLflow experiment.\n",
    "    \"\"\"\n",
    "\n",
    "    if experiment := mlflow.get_experiment_by_name(experiment_name):\n",
    "        return experiment.experiment_id\n",
    "    else:\n",
    "        return mlflow.create_experiment(experiment_name)"
   ]
  }
 ],
 "metadata": {
  "kernelspec": {
   "display_name": "bike-sharing-demand-GBgSRmEk-py3.9",
   "language": "python",
   "name": "python3"
  },
  "language_info": {
   "codemirror_mode": {
    "name": "ipython",
    "version": 3
   },
   "file_extension": ".py",
   "mimetype": "text/x-python",
   "name": "python",
   "nbconvert_exporter": "python",
   "pygments_lexer": "ipython3",
   "version": "3.10.12"
  }
 },
 "nbformat": 4,
 "nbformat_minor": 2
}
